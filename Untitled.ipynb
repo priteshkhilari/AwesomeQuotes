{
 "cells": [
  {
   "cell_type": "code",
   "execution_count": 1,
   "id": "fc527caa-2097-4dc4-8aef-129ddd451644",
   "metadata": {},
   "outputs": [],
   "source": [
    "import pandas as pd"
   ]
  },
  {
   "cell_type": "code",
   "execution_count": 1,
   "id": "2d030c66-209a-4ef2-a64e-978073d5aea6",
   "metadata": {},
   "outputs": [],
   "source": [
    "\n",
    "data = {'Name': ['Alice', 'Bob', 'Charlie'],\n",
    "        'Age': [25, 30, 35]}\n",
    "\n",
    "df = pd.DataFrame(data)\n"
   ]
  },
  {
   "cell_type": "code",
   "execution_count": 2,
   "id": "5fbbc885-e066-46cc-8539-000187865204",
   "metadata": {},
   "outputs": [
    {
     "data": {
      "text/html": [
       "<div>\n",
       "<style scoped>\n",
       "    .dataframe tbody tr th:only-of-type {\n",
       "        vertical-align: middle;\n",
       "    }\n",
       "\n",
       "    .dataframe tbody tr th {\n",
       "        vertical-align: top;\n",
       "    }\n",
       "\n",
       "    .dataframe thead th {\n",
       "        text-align: right;\n",
       "    }\n",
       "</style>\n",
       "<table border=\"1\" class=\"dataframe\">\n",
       "  <thead>\n",
       "    <tr style=\"text-align: right;\">\n",
       "      <th></th>\n",
       "      <th>Name</th>\n",
       "      <th>Age</th>\n",
       "    </tr>\n",
       "  </thead>\n",
       "  <tbody>\n",
       "    <tr>\n",
       "      <th>0</th>\n",
       "      <td>Alice</td>\n",
       "      <td>25</td>\n",
       "    </tr>\n",
       "    <tr>\n",
       "      <th>1</th>\n",
       "      <td>Bob</td>\n",
       "      <td>30</td>\n",
       "    </tr>\n",
       "    <tr>\n",
       "      <th>2</th>\n",
       "      <td>Charlie</td>\n",
       "      <td>35</td>\n",
       "    </tr>\n",
       "  </tbody>\n",
       "</table>\n",
       "</div>"
      ],
      "text/plain": [
       "      Name  Age\n",
       "0    Alice   25\n",
       "1      Bob   30\n",
       "2  Charlie   35"
      ]
     },
     "execution_count": 2,
     "metadata": {},
     "output_type": "execute_result"
    }
   ],
   "source": [
    "df"
   ]
  },
  {
   "cell_type": "code",
   "execution_count": 3,
   "id": "ba559c9a-9334-49a6-bb96-738960e4afdd",
   "metadata": {},
   "outputs": [],
   "source": [
    "new_row = {\"mid\":\"ggougoi6654\",'Name': 'David', 'Age': 28}"
   ]
  },
  {
   "cell_type": "code",
   "execution_count": 8,
   "id": "42a7ef08-56c4-47f0-a03c-a25839a10601",
   "metadata": {},
   "outputs": [
    {
     "data": {
      "text/html": [
       "<div>\n",
       "<style scoped>\n",
       "    .dataframe tbody tr th:only-of-type {\n",
       "        vertical-align: middle;\n",
       "    }\n",
       "\n",
       "    .dataframe tbody tr th {\n",
       "        vertical-align: top;\n",
       "    }\n",
       "\n",
       "    .dataframe thead th {\n",
       "        text-align: right;\n",
       "    }\n",
       "</style>\n",
       "<table border=\"1\" class=\"dataframe\">\n",
       "  <thead>\n",
       "    <tr style=\"text-align: right;\">\n",
       "      <th></th>\n",
       "      <th>Name</th>\n",
       "      <th>Age</th>\n",
       "    </tr>\n",
       "  </thead>\n",
       "  <tbody>\n",
       "    <tr>\n",
       "      <th>0</th>\n",
       "      <td>David</td>\n",
       "      <td>28</td>\n",
       "    </tr>\n",
       "  </tbody>\n",
       "</table>\n",
       "</div>"
      ],
      "text/plain": [
       "    Name  Age\n",
       "0  David   28"
      ]
     },
     "execution_count": 8,
     "metadata": {},
     "output_type": "execute_result"
    }
   ],
   "source": [
    "new_df = pd.DataFrame(new_row,index =[0])\n",
    "new_df\n"
   ]
  },
  {
   "cell_type": "code",
   "execution_count": 13,
   "id": "ebeb0dce-bb31-4f0f-ae1a-08c47285572b",
   "metadata": {},
   "outputs": [],
   "source": [
    "df = pd.concat([df,new_df],ignore_index = True)"
   ]
  },
  {
   "cell_type": "code",
   "execution_count": 14,
   "id": "474848a2-ecc3-4add-b005-b11c1428b2bf",
   "metadata": {},
   "outputs": [],
   "source": [
    "# df.to_csv(\"tempo.csv\")"
   ]
  },
  {
   "cell_type": "code",
   "execution_count": 15,
   "id": "04cbce1b-6d4e-4c82-befd-7d58bfeadc61",
   "metadata": {},
   "outputs": [
    {
     "data": {
      "text/html": [
       "<div>\n",
       "<style scoped>\n",
       "    .dataframe tbody tr th:only-of-type {\n",
       "        vertical-align: middle;\n",
       "    }\n",
       "\n",
       "    .dataframe tbody tr th {\n",
       "        vertical-align: top;\n",
       "    }\n",
       "\n",
       "    .dataframe thead th {\n",
       "        text-align: right;\n",
       "    }\n",
       "</style>\n",
       "<table border=\"1\" class=\"dataframe\">\n",
       "  <thead>\n",
       "    <tr style=\"text-align: right;\">\n",
       "      <th></th>\n",
       "      <th>Name</th>\n",
       "      <th>Age</th>\n",
       "    </tr>\n",
       "  </thead>\n",
       "  <tbody>\n",
       "    <tr>\n",
       "      <th>0</th>\n",
       "      <td>Alice</td>\n",
       "      <td>25</td>\n",
       "    </tr>\n",
       "    <tr>\n",
       "      <th>1</th>\n",
       "      <td>Bob</td>\n",
       "      <td>30</td>\n",
       "    </tr>\n",
       "    <tr>\n",
       "      <th>2</th>\n",
       "      <td>Charlie</td>\n",
       "      <td>35</td>\n",
       "    </tr>\n",
       "    <tr>\n",
       "      <th>3</th>\n",
       "      <td>David</td>\n",
       "      <td>28</td>\n",
       "    </tr>\n",
       "  </tbody>\n",
       "</table>\n",
       "</div>"
      ],
      "text/plain": [
       "      Name  Age\n",
       "0    Alice   25\n",
       "1      Bob   30\n",
       "2  Charlie   35\n",
       "3    David   28"
      ]
     },
     "execution_count": 15,
     "metadata": {},
     "output_type": "execute_result"
    }
   ],
   "source": [
    "df\n"
   ]
  },
  {
   "cell_type": "code",
   "execution_count": 18,
   "id": "2e7d34df-1a01-4d26-a01a-b70bb85924c2",
   "metadata": {},
   "outputs": [
    {
     "data": {
      "text/plain": [
       "['Alice', 'Bob', 'Charlie', 'David']"
      ]
     },
     "execution_count": 18,
     "metadata": {},
     "output_type": "execute_result"
    }
   ],
   "source": [
    "list(df[\"Name\"])"
   ]
  },
  {
   "cell_type": "code",
   "execution_count": 3,
   "id": "366200cc-f426-4394-9d47-266cc65e897d",
   "metadata": {},
   "outputs": [],
   "source": [
    "qdata = {\"Qid\":[],\n",
    "       \"text\":[],\n",
    "       \"author\":[],\n",
    "       \"mID\":[]}"
   ]
  },
  {
   "cell_type": "code",
   "execution_count": 4,
   "id": "d221c319-dde3-46cd-936b-942b3b5a160a",
   "metadata": {},
   "outputs": [],
   "source": [
    "df = pd.DataFrame(data)\n"
   ]
  },
  {
   "cell_type": "code",
   "execution_count": 5,
   "id": "64cda079-29cd-41f6-af4e-ec34153f87ef",
   "metadata": {},
   "outputs": [
    {
     "data": {
      "text/html": [
       "<div>\n",
       "<style scoped>\n",
       "    .dataframe tbody tr th:only-of-type {\n",
       "        vertical-align: middle;\n",
       "    }\n",
       "\n",
       "    .dataframe tbody tr th {\n",
       "        vertical-align: top;\n",
       "    }\n",
       "\n",
       "    .dataframe thead th {\n",
       "        text-align: right;\n",
       "    }\n",
       "</style>\n",
       "<table border=\"1\" class=\"dataframe\">\n",
       "  <thead>\n",
       "    <tr style=\"text-align: right;\">\n",
       "      <th></th>\n",
       "      <th>Qid</th>\n",
       "      <th>text</th>\n",
       "      <th>author</th>\n",
       "      <th>mID</th>\n",
       "    </tr>\n",
       "  </thead>\n",
       "  <tbody>\n",
       "  </tbody>\n",
       "</table>\n",
       "</div>"
      ],
      "text/plain": [
       "Empty DataFrame\n",
       "Columns: [Qid, text, author, mID]\n",
       "Index: []"
      ]
     },
     "execution_count": 5,
     "metadata": {},
     "output_type": "execute_result"
    }
   ],
   "source": [
    "df"
   ]
  },
  {
   "cell_type": "code",
   "execution_count": 8,
   "id": "87fa9408-8ada-4c09-aebc-b3344556de97",
   "metadata": {},
   "outputs": [],
   "source": [
    "df.to_csv(\"./quotes.csv\")"
   ]
  },
  {
   "cell_type": "code",
   "execution_count": 9,
   "id": "9820cf62-6f74-4288-a062-21fbf97f4d6a",
   "metadata": {},
   "outputs": [
    {
     "data": {
      "text/html": [
       "<div>\n",
       "<style scoped>\n",
       "    .dataframe tbody tr th:only-of-type {\n",
       "        vertical-align: middle;\n",
       "    }\n",
       "\n",
       "    .dataframe tbody tr th {\n",
       "        vertical-align: top;\n",
       "    }\n",
       "\n",
       "    .dataframe thead th {\n",
       "        text-align: right;\n",
       "    }\n",
       "</style>\n",
       "<table border=\"1\" class=\"dataframe\">\n",
       "  <thead>\n",
       "    <tr style=\"text-align: right;\">\n",
       "      <th></th>\n",
       "      <th>Qid</th>\n",
       "      <th>text</th>\n",
       "      <th>author</th>\n",
       "      <th>mID</th>\n",
       "    </tr>\n",
       "  </thead>\n",
       "  <tbody>\n",
       "  </tbody>\n",
       "</table>\n",
       "</div>"
      ],
      "text/plain": [
       "Empty DataFrame\n",
       "Columns: [Qid, text, author, mID]\n",
       "Index: []"
      ]
     },
     "execution_count": 9,
     "metadata": {},
     "output_type": "execute_result"
    }
   ],
   "source": [
    "df"
   ]
  },
  {
   "cell_type": "code",
   "execution_count": 10,
   "id": "5c6927a9-1aa5-4877-beff-e1bdb56fe67f",
   "metadata": {},
   "outputs": [],
   "source": [
    "aq = df[[\"author\",\"text\"]]"
   ]
  },
  {
   "cell_type": "code",
   "execution_count": 11,
   "id": "fdfd949d-c1da-4c5f-93c4-bd1fc11790dd",
   "metadata": {},
   "outputs": [
    {
     "data": {
      "text/html": [
       "<div>\n",
       "<style scoped>\n",
       "    .dataframe tbody tr th:only-of-type {\n",
       "        vertical-align: middle;\n",
       "    }\n",
       "\n",
       "    .dataframe tbody tr th {\n",
       "        vertical-align: top;\n",
       "    }\n",
       "\n",
       "    .dataframe thead th {\n",
       "        text-align: right;\n",
       "    }\n",
       "</style>\n",
       "<table border=\"1\" class=\"dataframe\">\n",
       "  <thead>\n",
       "    <tr style=\"text-align: right;\">\n",
       "      <th></th>\n",
       "      <th>author</th>\n",
       "      <th>text</th>\n",
       "    </tr>\n",
       "  </thead>\n",
       "  <tbody>\n",
       "  </tbody>\n",
       "</table>\n",
       "</div>"
      ],
      "text/plain": [
       "Empty DataFrame\n",
       "Columns: [author, text]\n",
       "Index: []"
      ]
     },
     "execution_count": 11,
     "metadata": {},
     "output_type": "execute_result"
    }
   ],
   "source": [
    "aq"
   ]
  },
  {
   "cell_type": "code",
   "execution_count": 16,
   "id": "ae1b3167-81fa-4593-b53b-258369c035e2",
   "metadata": {},
   "outputs": [],
   "source": [
    "\n",
    "# Create a sample DataFrame\n",
    "data = {'mid': ['ggougoi6654', 'hjkl9876', 'abcd1234'],\n",
    "        'Name': ['Alice', 'David', 'Charlie'],\n",
    "        'Age': [25, 28, 35]}\n",
    "\n",
    "df = pd.DataFrame(data)\n",
    "\n",
    "\n"
   ]
  },
  {
   "cell_type": "code",
   "execution_count": 18,
   "id": "783a81db-39aa-4392-8ed2-22fd9373264b",
   "metadata": {},
   "outputs": [
    {
     "name": "stdout",
     "output_type": "stream",
     "text": [
      "        mid  Age\n",
      "1  hjkl9876   28\n"
     ]
    }
   ],
   "source": [
    "# Search for \"David\" and retrieve the corresponding \"mid\"\n",
    "david_mid = df.loc[df['Name'] == 'David', ['mid',\"Age\"]]\n",
    "\n",
    "# Print the \"mid\" associated with \"David\"\n",
    "print(david_mid)"
   ]
  },
  {
   "cell_type": "code",
   "execution_count": 19,
   "id": "fbfbd228-af06-411a-84c5-7c7aa81dbc07",
   "metadata": {},
   "outputs": [
    {
     "data": {
      "text/plain": [
       "pandas.core.frame.DataFrame"
      ]
     },
     "execution_count": 19,
     "metadata": {},
     "output_type": "execute_result"
    }
   ],
   "source": [
    "type(david_mid)"
   ]
  },
  {
   "cell_type": "code",
   "execution_count": 20,
   "id": "b0884dec-2465-4f0d-a148-6f4070e5d2ab",
   "metadata": {},
   "outputs": [
    {
     "name": "stdout",
     "output_type": "stream",
     "text": [
      "[['hjkl9876' 28]]\n"
     ]
    }
   ],
   "source": [
    "print(david_mid.values)"
   ]
  },
  {
   "cell_type": "code",
   "execution_count": 21,
   "id": "c75069ae-d0ef-4696-add2-ea36373ae262",
   "metadata": {},
   "outputs": [
    {
     "data": {
      "text/plain": [
       "10"
      ]
     },
     "execution_count": 21,
     "metadata": {},
     "output_type": "execute_result"
    }
   ],
   "source": [
    "5+5"
   ]
  },
  {
   "cell_type": "code",
   "execution_count": null,
   "id": "48310f53-a20d-46a4-8644-8c146f6eb822",
   "metadata": {},
   "outputs": [],
   "source": [
    "# Search for \"David\" and retrieve the corresponding \"mid\"\n",
    "david_mid = df.loc[df['Name'] == 'David', 'mid'].values[0]\n",
    "\n",
    "# Print the \"mid\" associated with \"David\"\n",
    "print(david_mid)"
   ]
  },
  {
   "cell_type": "code",
   "execution_count": 22,
   "id": "35f38308-db22-4416-b41b-632bf4a0e2f5",
   "metadata": {},
   "outputs": [
    {
     "data": {
      "text/html": [
       "<div>\n",
       "<style scoped>\n",
       "    .dataframe tbody tr th:only-of-type {\n",
       "        vertical-align: middle;\n",
       "    }\n",
       "\n",
       "    .dataframe tbody tr th {\n",
       "        vertical-align: top;\n",
       "    }\n",
       "\n",
       "    .dataframe thead th {\n",
       "        text-align: right;\n",
       "    }\n",
       "</style>\n",
       "<table border=\"1\" class=\"dataframe\">\n",
       "  <thead>\n",
       "    <tr style=\"text-align: right;\">\n",
       "      <th></th>\n",
       "      <th>mID</th>\n",
       "      <th>emailID</th>\n",
       "      <th>password</th>\n",
       "    </tr>\n",
       "  </thead>\n",
       "  <tbody>\n",
       "    <tr>\n",
       "      <th>0</th>\n",
       "      <td>56f3d07e-675a-11ee-8612-ff5ae65b72d3</td>\n",
       "      <td>pritesh</td>\n",
       "      <td>Hello@123456</td>\n",
       "    </tr>\n",
       "    <tr>\n",
       "      <th>1</th>\n",
       "      <td>d6bc21d0-675a-11ee-8612-ff5ae65b72d3</td>\n",
       "      <td>5</td>\n",
       "      <td>9892901083@a</td>\n",
       "    </tr>\n",
       "    <tr>\n",
       "      <th>2</th>\n",
       "      <td>db31d35e-6764-11ee-8612-ff5ae65b72d3</td>\n",
       "      <td>prit</td>\n",
       "      <td>D@123546789</td>\n",
       "    </tr>\n",
       "    <tr>\n",
       "      <th>3</th>\n",
       "      <td>ed8616dc-6764-11ee-8612-ff5ae65b72d3</td>\n",
       "      <td>lrb</td>\n",
       "      <td>lrb123456789!</td>\n",
       "    </tr>\n",
       "    <tr>\n",
       "      <th>4</th>\n",
       "      <td>f894cdde-6764-11ee-8612-ff5ae65b72d3</td>\n",
       "      <td>dsfg</td>\n",
       "      <td>adf52@4887514dfasd</td>\n",
       "    </tr>\n",
       "    <tr>\n",
       "      <th>5</th>\n",
       "      <td>547eee36-6765-11ee-8612-ff5ae65b72d3</td>\n",
       "      <td>Psdfsad</td>\n",
       "      <td>asdf2@q234q2345456</td>\n",
       "    </tr>\n",
       "    <tr>\n",
       "      <th>6</th>\n",
       "      <td>5dc2bb76-6765-11ee-8612-ff5ae65b72d3</td>\n",
       "      <td>Pasdfasdfasdf</td>\n",
       "      <td>P@1456dsfsadgfafrga</td>\n",
       "    </tr>\n",
       "  </tbody>\n",
       "</table>\n",
       "</div>"
      ],
      "text/plain": [
       "                                    mID        emailID             password\n",
       "0  56f3d07e-675a-11ee-8612-ff5ae65b72d3        pritesh         Hello@123456\n",
       "1  d6bc21d0-675a-11ee-8612-ff5ae65b72d3              5         9892901083@a\n",
       "2  db31d35e-6764-11ee-8612-ff5ae65b72d3           prit          D@123546789\n",
       "3  ed8616dc-6764-11ee-8612-ff5ae65b72d3            lrb        lrb123456789!\n",
       "4  f894cdde-6764-11ee-8612-ff5ae65b72d3           dsfg   adf52@4887514dfasd\n",
       "5  547eee36-6765-11ee-8612-ff5ae65b72d3        Psdfsad   asdf2@q234q2345456\n",
       "6  5dc2bb76-6765-11ee-8612-ff5ae65b72d3  Pasdfasdfasdf  P@1456dsfsadgfafrga"
      ]
     },
     "execution_count": 22,
     "metadata": {},
     "output_type": "execute_result"
    }
   ],
   "source": [
    "df = pd.read_csv(\"./IDPass.csv\")\n",
    "df"
   ]
  },
  {
   "cell_type": "code",
   "execution_count": 35,
   "id": "81b4d197-6186-4686-a199-54522c300c56",
   "metadata": {},
   "outputs": [
    {
     "data": {
      "text/html": [
       "<div>\n",
       "<style scoped>\n",
       "    .dataframe tbody tr th:only-of-type {\n",
       "        vertical-align: middle;\n",
       "    }\n",
       "\n",
       "    .dataframe tbody tr th {\n",
       "        vertical-align: top;\n",
       "    }\n",
       "\n",
       "    .dataframe thead th {\n",
       "        text-align: right;\n",
       "    }\n",
       "</style>\n",
       "<table border=\"1\" class=\"dataframe\">\n",
       "  <thead>\n",
       "    <tr style=\"text-align: right;\">\n",
       "      <th></th>\n",
       "      <th>Qid</th>\n",
       "      <th>text</th>\n",
       "      <th>author</th>\n",
       "      <th>mID</th>\n",
       "    </tr>\n",
       "  </thead>\n",
       "  <tbody>\n",
       "    <tr>\n",
       "      <th>0</th>\n",
       "      <td>dee1005e-676b-11ee-8612-ff5ae65b72d3</td>\n",
       "      <td>One step at a time</td>\n",
       "      <td>Unknown</td>\n",
       "      <td>56f3d07e-675a-11ee-8612-ff5ae65b72d3</td>\n",
       "    </tr>\n",
       "    <tr>\n",
       "      <th>1</th>\n",
       "      <td>f673fe64-676c-11ee-8612-ff5ae65b72d3</td>\n",
       "      <td>Live life full size</td>\n",
       "      <td>Scorpio</td>\n",
       "      <td>d6bc21d0-675a-11ee-8612-ff5ae65b72d3</td>\n",
       "    </tr>\n",
       "    <tr>\n",
       "      <th>2</th>\n",
       "      <td>ffbb9310-676c-11ee-8612-ff5ae65b72d3</td>\n",
       "      <td>Nothing like anything</td>\n",
       "      <td>Micromax</td>\n",
       "      <td>d6bc21d0-675a-11ee-8612-ff5ae65b72d3</td>\n",
       "    </tr>\n",
       "  </tbody>\n",
       "</table>\n",
       "</div>"
      ],
      "text/plain": [
       "                                    Qid                   text    author  \\\n",
       "0  dee1005e-676b-11ee-8612-ff5ae65b72d3     One step at a time   Unknown   \n",
       "1  f673fe64-676c-11ee-8612-ff5ae65b72d3    Live life full size   Scorpio   \n",
       "2  ffbb9310-676c-11ee-8612-ff5ae65b72d3  Nothing like anything  Micromax   \n",
       "\n",
       "                                    mID  \n",
       "0  56f3d07e-675a-11ee-8612-ff5ae65b72d3  \n",
       "1  d6bc21d0-675a-11ee-8612-ff5ae65b72d3  \n",
       "2  d6bc21d0-675a-11ee-8612-ff5ae65b72d3  "
      ]
     },
     "execution_count": 35,
     "metadata": {},
     "output_type": "execute_result"
    }
   ],
   "source": [
    "df = pd.read_csv(\"./quotes.csv\")\n",
    "df"
   ]
  },
  {
   "cell_type": "code",
   "execution_count": 36,
   "id": "7b330a58-1c0a-4b9c-911b-9a35cbcc4b00",
   "metadata": {},
   "outputs": [
    {
     "data": {
      "text/html": [
       "<div>\n",
       "<style scoped>\n",
       "    .dataframe tbody tr th:only-of-type {\n",
       "        vertical-align: middle;\n",
       "    }\n",
       "\n",
       "    .dataframe tbody tr th {\n",
       "        vertical-align: top;\n",
       "    }\n",
       "\n",
       "    .dataframe thead th {\n",
       "        text-align: right;\n",
       "    }\n",
       "</style>\n",
       "<table border=\"1\" class=\"dataframe\">\n",
       "  <thead>\n",
       "    <tr style=\"text-align: right;\">\n",
       "      <th></th>\n",
       "      <th>text</th>\n",
       "      <th>author</th>\n",
       "    </tr>\n",
       "  </thead>\n",
       "  <tbody>\n",
       "    <tr>\n",
       "      <th>0</th>\n",
       "      <td>One step at a time</td>\n",
       "      <td>Unknown</td>\n",
       "    </tr>\n",
       "    <tr>\n",
       "      <th>1</th>\n",
       "      <td>Live life full size</td>\n",
       "      <td>Scorpio</td>\n",
       "    </tr>\n",
       "    <tr>\n",
       "      <th>2</th>\n",
       "      <td>Nothing like anything</td>\n",
       "      <td>Micromax</td>\n",
       "    </tr>\n",
       "  </tbody>\n",
       "</table>\n",
       "</div>"
      ],
      "text/plain": [
       "                    text    author\n",
       "0     One step at a time   Unknown\n",
       "1    Live life full size   Scorpio\n",
       "2  Nothing like anything  Micromax"
      ]
     },
     "execution_count": 36,
     "metadata": {},
     "output_type": "execute_result"
    }
   ],
   "source": [
    "df[[\"text\",\"author\"]]"
   ]
  },
  {
   "cell_type": "code",
   "execution_count": 37,
   "id": "3e68030e-6289-4b1a-a238-c541d9ce2878",
   "metadata": {},
   "outputs": [],
   "source": [
    "val = 1"
   ]
  },
  {
   "cell_type": "code",
   "execution_count": 40,
   "id": "21aae38f-c477-45da-9603-7d32ff35f40c",
   "metadata": {},
   "outputs": [],
   "source": [
    "miid = \t\"d6bc21d0-675a-11ee-8612-ff5ae65b72d3\""
   ]
  },
  {
   "cell_type": "code",
   "execution_count": 45,
   "id": "f6575b31-4b85-46c4-a175-b25852be5149",
   "metadata": {},
   "outputs": [],
   "source": [
    "x = df.iloc[[val]]"
   ]
  },
  {
   "cell_type": "code",
   "execution_count": 48,
   "id": "53e8211f-860c-472b-9892-de62cf77dc8e",
   "metadata": {},
   "outputs": [
    {
     "data": {
      "text/plain": [
       "'d6bc21d0-675a-11ee-8612-ff5ae65b72d3'"
      ]
     },
     "execution_count": 48,
     "metadata": {},
     "output_type": "execute_result"
    }
   ],
   "source": [
    "x.values[0][3]"
   ]
  },
  {
   "cell_type": "code",
   "execution_count": 49,
   "id": "f49549db-aa5f-46cf-9028-4f8a990cb7f7",
   "metadata": {},
   "outputs": [
    {
     "data": {
      "text/html": [
       "<div>\n",
       "<style scoped>\n",
       "    .dataframe tbody tr th:only-of-type {\n",
       "        vertical-align: middle;\n",
       "    }\n",
       "\n",
       "    .dataframe tbody tr th {\n",
       "        vertical-align: top;\n",
       "    }\n",
       "\n",
       "    .dataframe thead th {\n",
       "        text-align: right;\n",
       "    }\n",
       "</style>\n",
       "<table border=\"1\" class=\"dataframe\">\n",
       "  <thead>\n",
       "    <tr style=\"text-align: right;\">\n",
       "      <th></th>\n",
       "      <th>Qid</th>\n",
       "      <th>text</th>\n",
       "      <th>author</th>\n",
       "      <th>mID</th>\n",
       "    </tr>\n",
       "  </thead>\n",
       "  <tbody>\n",
       "    <tr>\n",
       "      <th>0</th>\n",
       "      <td>dee1005e-676b-11ee-8612-ff5ae65b72d3</td>\n",
       "      <td>One step at a time</td>\n",
       "      <td>Unknown</td>\n",
       "      <td>56f3d07e-675a-11ee-8612-ff5ae65b72d3</td>\n",
       "    </tr>\n",
       "    <tr>\n",
       "      <th>1</th>\n",
       "      <td>f673fe64-676c-11ee-8612-ff5ae65b72d3</td>\n",
       "      <td>Live life full size</td>\n",
       "      <td>Scorpio</td>\n",
       "      <td>d6bc21d0-675a-11ee-8612-ff5ae65b72d3</td>\n",
       "    </tr>\n",
       "    <tr>\n",
       "      <th>2</th>\n",
       "      <td>ffbb9310-676c-11ee-8612-ff5ae65b72d3</td>\n",
       "      <td>Nothing like anything</td>\n",
       "      <td>Micromax</td>\n",
       "      <td>d6bc21d0-675a-11ee-8612-ff5ae65b72d3</td>\n",
       "    </tr>\n",
       "  </tbody>\n",
       "</table>\n",
       "</div>"
      ],
      "text/plain": [
       "                                    Qid                   text    author  \\\n",
       "0  dee1005e-676b-11ee-8612-ff5ae65b72d3     One step at a time   Unknown   \n",
       "1  f673fe64-676c-11ee-8612-ff5ae65b72d3    Live life full size   Scorpio   \n",
       "2  ffbb9310-676c-11ee-8612-ff5ae65b72d3  Nothing like anything  Micromax   \n",
       "\n",
       "                                    mID  \n",
       "0  56f3d07e-675a-11ee-8612-ff5ae65b72d3  \n",
       "1  d6bc21d0-675a-11ee-8612-ff5ae65b72d3  \n",
       "2  d6bc21d0-675a-11ee-8612-ff5ae65b72d3  "
      ]
     },
     "execution_count": 49,
     "metadata": {},
     "output_type": "execute_result"
    }
   ],
   "source": [
    "df"
   ]
  },
  {
   "cell_type": "code",
   "execution_count": null,
   "id": "f0125b93-2e22-400a-8176-8eae280d597f",
   "metadata": {},
   "outputs": [],
   "source": []
  },
  {
   "cell_type": "code",
   "execution_count": null,
   "id": "e5a7c0c5-2bc9-426d-8819-b0a84a04bcae",
   "metadata": {},
   "outputs": [],
   "source": []
  },
  {
   "cell_type": "code",
   "execution_count": null,
   "id": "8c9ed31d-35ff-483b-ade8-03e4445088e2",
   "metadata": {},
   "outputs": [],
   "source": []
  },
  {
   "cell_type": "code",
   "execution_count": null,
   "id": "10adc7a7-dd64-4b36-a25e-47c55309f289",
   "metadata": {},
   "outputs": [],
   "source": []
  },
  {
   "cell_type": "code",
   "execution_count": null,
   "id": "7d9a14a7-d1e1-4dff-b5d0-38d501df88eb",
   "metadata": {},
   "outputs": [],
   "source": []
  },
  {
   "cell_type": "code",
   "execution_count": null,
   "id": "d4fed694-71bc-4c3e-bdca-ef67eca81dea",
   "metadata": {},
   "outputs": [],
   "source": []
  },
  {
   "cell_type": "code",
   "execution_count": null,
   "id": "cf33fc6c-cab3-4837-82db-053a7e1b6f99",
   "metadata": {},
   "outputs": [],
   "source": []
  },
  {
   "cell_type": "code",
   "execution_count": null,
   "id": "5cb421bf-2132-42db-be42-5bc61b6c19e0",
   "metadata": {},
   "outputs": [],
   "source": []
  },
  {
   "cell_type": "code",
   "execution_count": 28,
   "id": "5c0d5039-9463-4d1c-b463-d0542c20071c",
   "metadata": {},
   "outputs": [],
   "source": [
    "import pandas as pd\n",
    "\n",
    "# Create a sample DataFrame\n",
    "data = {'A': [1, 2, 3],\n",
    "        'B': [4, 5, 6],\n",
    "        'C': [7, 8, 9]}\n",
    "\n",
    "df = pd.DataFrame(data)\n"
   ]
  },
  {
   "cell_type": "code",
   "execution_count": 29,
   "id": "b9c93c5a-3bf8-4b84-af5a-3920df20dd9a",
   "metadata": {},
   "outputs": [
    {
     "data": {
      "text/html": [
       "<div>\n",
       "<style scoped>\n",
       "    .dataframe tbody tr th:only-of-type {\n",
       "        vertical-align: middle;\n",
       "    }\n",
       "\n",
       "    .dataframe tbody tr th {\n",
       "        vertical-align: top;\n",
       "    }\n",
       "\n",
       "    .dataframe thead th {\n",
       "        text-align: right;\n",
       "    }\n",
       "</style>\n",
       "<table border=\"1\" class=\"dataframe\">\n",
       "  <thead>\n",
       "    <tr style=\"text-align: right;\">\n",
       "      <th></th>\n",
       "      <th>A</th>\n",
       "      <th>B</th>\n",
       "      <th>C</th>\n",
       "    </tr>\n",
       "  </thead>\n",
       "  <tbody>\n",
       "    <tr>\n",
       "      <th>0</th>\n",
       "      <td>1</td>\n",
       "      <td>4</td>\n",
       "      <td>7</td>\n",
       "    </tr>\n",
       "    <tr>\n",
       "      <th>1</th>\n",
       "      <td>2</td>\n",
       "      <td>5</td>\n",
       "      <td>8</td>\n",
       "    </tr>\n",
       "    <tr>\n",
       "      <th>2</th>\n",
       "      <td>3</td>\n",
       "      <td>6</td>\n",
       "      <td>9</td>\n",
       "    </tr>\n",
       "  </tbody>\n",
       "</table>\n",
       "</div>"
      ],
      "text/plain": [
       "   A  B  C\n",
       "0  1  4  7\n",
       "1  2  5  8\n",
       "2  3  6  9"
      ]
     },
     "execution_count": 29,
     "metadata": {},
     "output_type": "execute_result"
    }
   ],
   "source": [
    "df"
   ]
  },
  {
   "cell_type": "code",
   "execution_count": 30,
   "id": "7efafb02-48d9-4410-8ca6-95a02591a7d5",
   "metadata": {},
   "outputs": [
    {
     "data": {
      "text/plain": [
       "4"
      ]
     },
     "execution_count": 30,
     "metadata": {},
     "output_type": "execute_result"
    }
   ],
   "source": [
    "\n",
    "# Select a single element (row 0, column 1)\n",
    "element = df.iloc[0, 1]  # element is 4\n",
    "element\n"
   ]
  },
  {
   "cell_type": "code",
   "execution_count": 32,
   "id": "d73a9cfd-3dd1-4b31-a71d-3bcff2539165",
   "metadata": {},
   "outputs": [
    {
     "data": {
      "text/plain": [
       "0    7\n",
       "1    8\n",
       "2    9\n",
       "Name: C, dtype: int64"
      ]
     },
     "execution_count": 32,
     "metadata": {},
     "output_type": "execute_result"
    }
   ],
   "source": [
    "\n",
    "# Select a single column (column 2)\n",
    "column = df.iloc[:, 2]  # column is a Series containing [7, 8, 9]\n",
    "column\n"
   ]
  },
  {
   "cell_type": "code",
   "execution_count": 33,
   "id": "f3163fc2-6e92-475e-9896-bdcef7d711c7",
   "metadata": {},
   "outputs": [],
   "source": [
    "# Select a subset of rows and columns\n",
    "subset = df.iloc[1:3, 0:2]  # subset is a DataFrame containing rows 1 and 2, and columns 0 and 1"
   ]
  },
  {
   "cell_type": "code",
   "execution_count": 34,
   "id": "60d4fd6f-7d11-48cf-8c2d-08054c9ce7b9",
   "metadata": {},
   "outputs": [
    {
     "data": {
      "text/html": [
       "<div>\n",
       "<style scoped>\n",
       "    .dataframe tbody tr th:only-of-type {\n",
       "        vertical-align: middle;\n",
       "    }\n",
       "\n",
       "    .dataframe tbody tr th {\n",
       "        vertical-align: top;\n",
       "    }\n",
       "\n",
       "    .dataframe thead th {\n",
       "        text-align: right;\n",
       "    }\n",
       "</style>\n",
       "<table border=\"1\" class=\"dataframe\">\n",
       "  <thead>\n",
       "    <tr style=\"text-align: right;\">\n",
       "      <th></th>\n",
       "      <th>A</th>\n",
       "      <th>B</th>\n",
       "    </tr>\n",
       "  </thead>\n",
       "  <tbody>\n",
       "    <tr>\n",
       "      <th>1</th>\n",
       "      <td>2</td>\n",
       "      <td>5</td>\n",
       "    </tr>\n",
       "    <tr>\n",
       "      <th>2</th>\n",
       "      <td>3</td>\n",
       "      <td>6</td>\n",
       "    </tr>\n",
       "  </tbody>\n",
       "</table>\n",
       "</div>"
      ],
      "text/plain": [
       "   A  B\n",
       "1  2  5\n",
       "2  3  6"
      ]
     },
     "execution_count": 34,
     "metadata": {},
     "output_type": "execute_result"
    }
   ],
   "source": [
    "subset"
   ]
  },
  {
   "cell_type": "code",
   "execution_count": null,
   "id": "7a01401b-5471-4ea2-a54c-df06bfb8f30f",
   "metadata": {},
   "outputs": [],
   "source": []
  }
 ],
 "metadata": {
  "kernelspec": {
   "display_name": "Python 3 (ipykernel)",
   "language": "python",
   "name": "python3"
  },
  "language_info": {
   "codemirror_mode": {
    "name": "ipython",
    "version": 3
   },
   "file_extension": ".py",
   "mimetype": "text/x-python",
   "name": "python",
   "nbconvert_exporter": "python",
   "pygments_lexer": "ipython3",
   "version": "3.10.12"
  }
 },
 "nbformat": 4,
 "nbformat_minor": 5
}
