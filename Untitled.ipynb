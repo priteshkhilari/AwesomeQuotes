{
 "cells": [
  {
   "cell_type": "code",
   "execution_count": 1,
   "id": "fc527caa-2097-4dc4-8aef-129ddd451644",
   "metadata": {},
   "outputs": [],
   "source": [
    "import pandas as pd"
   ]
  },
  {
   "cell_type": "code",
   "execution_count": 1,
   "id": "2d030c66-209a-4ef2-a64e-978073d5aea6",
   "metadata": {},
   "outputs": [],
   "source": [
    "\n",
    "data = {'Name': ['Alice', 'Bob', 'Charlie'],\n",
    "        'Age': [25, 30, 35]}\n",
    "\n",
    "df = pd.DataFrame(data)\n"
   ]
  },
  {
   "cell_type": "code",
   "execution_count": 2,
   "id": "5fbbc885-e066-46cc-8539-000187865204",
   "metadata": {},
   "outputs": [
    {
     "data": {
      "text/html": [
       "<div>\n",
       "<style scoped>\n",
       "    .dataframe tbody tr th:only-of-type {\n",
       "        vertical-align: middle;\n",
       "    }\n",
       "\n",
       "    .dataframe tbody tr th {\n",
       "        vertical-align: top;\n",
       "    }\n",
       "\n",
       "    .dataframe thead th {\n",
       "        text-align: right;\n",
       "    }\n",
       "</style>\n",
       "<table border=\"1\" class=\"dataframe\">\n",
       "  <thead>\n",
       "    <tr style=\"text-align: right;\">\n",
       "      <th></th>\n",
       "      <th>Name</th>\n",
       "      <th>Age</th>\n",
       "    </tr>\n",
       "  </thead>\n",
       "  <tbody>\n",
       "    <tr>\n",
       "      <th>0</th>\n",
       "      <td>Alice</td>\n",
       "      <td>25</td>\n",
       "    </tr>\n",
       "    <tr>\n",
       "      <th>1</th>\n",
       "      <td>Bob</td>\n",
       "      <td>30</td>\n",
       "    </tr>\n",
       "    <tr>\n",
       "      <th>2</th>\n",
       "      <td>Charlie</td>\n",
       "      <td>35</td>\n",
       "    </tr>\n",
       "  </tbody>\n",
       "</table>\n",
       "</div>"
      ],
      "text/plain": [
       "      Name  Age\n",
       "0    Alice   25\n",
       "1      Bob   30\n",
       "2  Charlie   35"
      ]
     },
     "execution_count": 2,
     "metadata": {},
     "output_type": "execute_result"
    }
   ],
   "source": [
    "df"
   ]
  },
  {
   "cell_type": "code",
   "execution_count": 3,
   "id": "ba559c9a-9334-49a6-bb96-738960e4afdd",
   "metadata": {},
   "outputs": [],
   "source": [
    "new_row = {\"mid\":\"ggougoi6654\",'Name': 'David', 'Age': 28}"
   ]
  },
  {
   "cell_type": "code",
   "execution_count": 8,
   "id": "42a7ef08-56c4-47f0-a03c-a25839a10601",
   "metadata": {},
   "outputs": [
    {
     "data": {
      "text/html": [
       "<div>\n",
       "<style scoped>\n",
       "    .dataframe tbody tr th:only-of-type {\n",
       "        vertical-align: middle;\n",
       "    }\n",
       "\n",
       "    .dataframe tbody tr th {\n",
       "        vertical-align: top;\n",
       "    }\n",
       "\n",
       "    .dataframe thead th {\n",
       "        text-align: right;\n",
       "    }\n",
       "</style>\n",
       "<table border=\"1\" class=\"dataframe\">\n",
       "  <thead>\n",
       "    <tr style=\"text-align: right;\">\n",
       "      <th></th>\n",
       "      <th>Name</th>\n",
       "      <th>Age</th>\n",
       "    </tr>\n",
       "  </thead>\n",
       "  <tbody>\n",
       "    <tr>\n",
       "      <th>0</th>\n",
       "      <td>David</td>\n",
       "      <td>28</td>\n",
       "    </tr>\n",
       "  </tbody>\n",
       "</table>\n",
       "</div>"
      ],
      "text/plain": [
       "    Name  Age\n",
       "0  David   28"
      ]
     },
     "execution_count": 8,
     "metadata": {},
     "output_type": "execute_result"
    }
   ],
   "source": [
    "new_df = pd.DataFrame(new_row,index =[0])\n",
    "new_df\n"
   ]
  },
  {
   "cell_type": "code",
   "execution_count": 13,
   "id": "ebeb0dce-bb31-4f0f-ae1a-08c47285572b",
   "metadata": {},
   "outputs": [],
   "source": [
    "df = pd.concat([df,new_df],ignore_index = True)"
   ]
  },
  {
   "cell_type": "code",
   "execution_count": 14,
   "id": "474848a2-ecc3-4add-b005-b11c1428b2bf",
   "metadata": {},
   "outputs": [],
   "source": [
    "# df.to_csv(\"tempo.csv\")"
   ]
  },
  {
   "cell_type": "code",
   "execution_count": 15,
   "id": "04cbce1b-6d4e-4c82-befd-7d58bfeadc61",
   "metadata": {},
   "outputs": [
    {
     "data": {
      "text/html": [
       "<div>\n",
       "<style scoped>\n",
       "    .dataframe tbody tr th:only-of-type {\n",
       "        vertical-align: middle;\n",
       "    }\n",
       "\n",
       "    .dataframe tbody tr th {\n",
       "        vertical-align: top;\n",
       "    }\n",
       "\n",
       "    .dataframe thead th {\n",
       "        text-align: right;\n",
       "    }\n",
       "</style>\n",
       "<table border=\"1\" class=\"dataframe\">\n",
       "  <thead>\n",
       "    <tr style=\"text-align: right;\">\n",
       "      <th></th>\n",
       "      <th>Name</th>\n",
       "      <th>Age</th>\n",
       "    </tr>\n",
       "  </thead>\n",
       "  <tbody>\n",
       "    <tr>\n",
       "      <th>0</th>\n",
       "      <td>Alice</td>\n",
       "      <td>25</td>\n",
       "    </tr>\n",
       "    <tr>\n",
       "      <th>1</th>\n",
       "      <td>Bob</td>\n",
       "      <td>30</td>\n",
       "    </tr>\n",
       "    <tr>\n",
       "      <th>2</th>\n",
       "      <td>Charlie</td>\n",
       "      <td>35</td>\n",
       "    </tr>\n",
       "    <tr>\n",
       "      <th>3</th>\n",
       "      <td>David</td>\n",
       "      <td>28</td>\n",
       "    </tr>\n",
       "  </tbody>\n",
       "</table>\n",
       "</div>"
      ],
      "text/plain": [
       "      Name  Age\n",
       "0    Alice   25\n",
       "1      Bob   30\n",
       "2  Charlie   35\n",
       "3    David   28"
      ]
     },
     "execution_count": 15,
     "metadata": {},
     "output_type": "execute_result"
    }
   ],
   "source": [
    "df\n"
   ]
  },
  {
   "cell_type": "code",
   "execution_count": 18,
   "id": "2e7d34df-1a01-4d26-a01a-b70bb85924c2",
   "metadata": {},
   "outputs": [
    {
     "data": {
      "text/plain": [
       "['Alice', 'Bob', 'Charlie', 'David']"
      ]
     },
     "execution_count": 18,
     "metadata": {},
     "output_type": "execute_result"
    }
   ],
   "source": [
    "list(df[\"Name\"])"
   ]
  },
  {
   "cell_type": "code",
   "execution_count": 3,
   "id": "366200cc-f426-4394-9d47-266cc65e897d",
   "metadata": {},
   "outputs": [],
   "source": [
    "qdata = {\"Qid\":[],\n",
    "       \"text\":[],\n",
    "       \"author\":[],\n",
    "       \"mID\":[]}"
   ]
  },
  {
   "cell_type": "code",
   "execution_count": 4,
   "id": "d221c319-dde3-46cd-936b-942b3b5a160a",
   "metadata": {},
   "outputs": [],
   "source": [
    "df = pd.DataFrame(data)\n"
   ]
  },
  {
   "cell_type": "code",
   "execution_count": 5,
   "id": "64cda079-29cd-41f6-af4e-ec34153f87ef",
   "metadata": {},
   "outputs": [
    {
     "data": {
      "text/html": [
       "<div>\n",
       "<style scoped>\n",
       "    .dataframe tbody tr th:only-of-type {\n",
       "        vertical-align: middle;\n",
       "    }\n",
       "\n",
       "    .dataframe tbody tr th {\n",
       "        vertical-align: top;\n",
       "    }\n",
       "\n",
       "    .dataframe thead th {\n",
       "        text-align: right;\n",
       "    }\n",
       "</style>\n",
       "<table border=\"1\" class=\"dataframe\">\n",
       "  <thead>\n",
       "    <tr style=\"text-align: right;\">\n",
       "      <th></th>\n",
       "      <th>Qid</th>\n",
       "      <th>text</th>\n",
       "      <th>author</th>\n",
       "      <th>mID</th>\n",
       "    </tr>\n",
       "  </thead>\n",
       "  <tbody>\n",
       "  </tbody>\n",
       "</table>\n",
       "</div>"
      ],
      "text/plain": [
       "Empty DataFrame\n",
       "Columns: [Qid, text, author, mID]\n",
       "Index: []"
      ]
     },
     "execution_count": 5,
     "metadata": {},
     "output_type": "execute_result"
    }
   ],
   "source": [
    "df"
   ]
  },
  {
   "cell_type": "code",
   "execution_count": 8,
   "id": "87fa9408-8ada-4c09-aebc-b3344556de97",
   "metadata": {},
   "outputs": [],
   "source": [
    "df.to_csv(\"./quotes.csv\")"
   ]
  },
  {
   "cell_type": "code",
   "execution_count": 9,
   "id": "9820cf62-6f74-4288-a062-21fbf97f4d6a",
   "metadata": {},
   "outputs": [
    {
     "data": {
      "text/html": [
       "<div>\n",
       "<style scoped>\n",
       "    .dataframe tbody tr th:only-of-type {\n",
       "        vertical-align: middle;\n",
       "    }\n",
       "\n",
       "    .dataframe tbody tr th {\n",
       "        vertical-align: top;\n",
       "    }\n",
       "\n",
       "    .dataframe thead th {\n",
       "        text-align: right;\n",
       "    }\n",
       "</style>\n",
       "<table border=\"1\" class=\"dataframe\">\n",
       "  <thead>\n",
       "    <tr style=\"text-align: right;\">\n",
       "      <th></th>\n",
       "      <th>Qid</th>\n",
       "      <th>text</th>\n",
       "      <th>author</th>\n",
       "      <th>mID</th>\n",
       "    </tr>\n",
       "  </thead>\n",
       "  <tbody>\n",
       "  </tbody>\n",
       "</table>\n",
       "</div>"
      ],
      "text/plain": [
       "Empty DataFrame\n",
       "Columns: [Qid, text, author, mID]\n",
       "Index: []"
      ]
     },
     "execution_count": 9,
     "metadata": {},
     "output_type": "execute_result"
    }
   ],
   "source": [
    "df"
   ]
  },
  {
   "cell_type": "code",
   "execution_count": 10,
   "id": "5c6927a9-1aa5-4877-beff-e1bdb56fe67f",
   "metadata": {},
   "outputs": [],
   "source": [
    "aq = df[[\"author\",\"text\"]]"
   ]
  },
  {
   "cell_type": "code",
   "execution_count": 11,
   "id": "fdfd949d-c1da-4c5f-93c4-bd1fc11790dd",
   "metadata": {},
   "outputs": [
    {
     "data": {
      "text/html": [
       "<div>\n",
       "<style scoped>\n",
       "    .dataframe tbody tr th:only-of-type {\n",
       "        vertical-align: middle;\n",
       "    }\n",
       "\n",
       "    .dataframe tbody tr th {\n",
       "        vertical-align: top;\n",
       "    }\n",
       "\n",
       "    .dataframe thead th {\n",
       "        text-align: right;\n",
       "    }\n",
       "</style>\n",
       "<table border=\"1\" class=\"dataframe\">\n",
       "  <thead>\n",
       "    <tr style=\"text-align: right;\">\n",
       "      <th></th>\n",
       "      <th>author</th>\n",
       "      <th>text</th>\n",
       "    </tr>\n",
       "  </thead>\n",
       "  <tbody>\n",
       "  </tbody>\n",
       "</table>\n",
       "</div>"
      ],
      "text/plain": [
       "Empty DataFrame\n",
       "Columns: [author, text]\n",
       "Index: []"
      ]
     },
     "execution_count": 11,
     "metadata": {},
     "output_type": "execute_result"
    }
   ],
   "source": [
    "aq"
   ]
  },
  {
   "cell_type": "code",
   "execution_count": 16,
   "id": "ae1b3167-81fa-4593-b53b-258369c035e2",
   "metadata": {},
   "outputs": [],
   "source": [
    "\n",
    "# Create a sample DataFrame\n",
    "data = {'mid': ['ggougoi6654', 'hjkl9876', 'abcd1234'],\n",
    "        'Name': ['Alice', 'David', 'Charlie'],\n",
    "        'Age': [25, 28, 35]}\n",
    "\n",
    "df = pd.DataFrame(data)\n",
    "\n",
    "\n"
   ]
  },
  {
   "cell_type": "code",
   "execution_count": 18,
   "id": "783a81db-39aa-4392-8ed2-22fd9373264b",
   "metadata": {},
   "outputs": [
    {
     "name": "stdout",
     "output_type": "stream",
     "text": [
      "        mid  Age\n",
      "1  hjkl9876   28\n"
     ]
    }
   ],
   "source": [
    "# Search for \"David\" and retrieve the corresponding \"mid\"\n",
    "david_mid = df.loc[df['Name'] == 'David', ['mid',\"Age\"]]\n",
    "\n",
    "# Print the \"mid\" associated with \"David\"\n",
    "print(david_mid)"
   ]
  },
  {
   "cell_type": "code",
   "execution_count": 19,
   "id": "fbfbd228-af06-411a-84c5-7c7aa81dbc07",
   "metadata": {},
   "outputs": [
    {
     "data": {
      "text/plain": [
       "pandas.core.frame.DataFrame"
      ]
     },
     "execution_count": 19,
     "metadata": {},
     "output_type": "execute_result"
    }
   ],
   "source": [
    "type(david_mid)"
   ]
  },
  {
   "cell_type": "code",
   "execution_count": 20,
   "id": "b0884dec-2465-4f0d-a148-6f4070e5d2ab",
   "metadata": {},
   "outputs": [
    {
     "name": "stdout",
     "output_type": "stream",
     "text": [
      "[['hjkl9876' 28]]\n"
     ]
    }
   ],
   "source": [
    "print(david_mid.values)"
   ]
  },
  {
   "cell_type": "code",
   "execution_count": 21,
   "id": "c75069ae-d0ef-4696-add2-ea36373ae262",
   "metadata": {},
   "outputs": [
    {
     "data": {
      "text/plain": [
       "10"
      ]
     },
     "execution_count": 21,
     "metadata": {},
     "output_type": "execute_result"
    }
   ],
   "source": [
    "5+5"
   ]
  },
  {
   "cell_type": "code",
   "execution_count": null,
   "id": "48310f53-a20d-46a4-8644-8c146f6eb822",
   "metadata": {},
   "outputs": [],
   "source": [
    "# Search for \"David\" and retrieve the corresponding \"mid\"\n",
    "david_mid = df.loc[df['Name'] == 'David', 'mid'].values[0]\n",
    "\n",
    "# Print the \"mid\" associated with \"David\"\n",
    "print(david_mid)"
   ]
  },
  {
   "cell_type": "code",
   "execution_count": 22,
   "id": "35f38308-db22-4416-b41b-632bf4a0e2f5",
   "metadata": {},
   "outputs": [
    {
     "data": {
      "text/html": [
       "<div>\n",
       "<style scoped>\n",
       "    .dataframe tbody tr th:only-of-type {\n",
       "        vertical-align: middle;\n",
       "    }\n",
       "\n",
       "    .dataframe tbody tr th {\n",
       "        vertical-align: top;\n",
       "    }\n",
       "\n",
       "    .dataframe thead th {\n",
       "        text-align: right;\n",
       "    }\n",
       "</style>\n",
       "<table border=\"1\" class=\"dataframe\">\n",
       "  <thead>\n",
       "    <tr style=\"text-align: right;\">\n",
       "      <th></th>\n",
       "      <th>mID</th>\n",
       "      <th>emailID</th>\n",
       "      <th>password</th>\n",
       "    </tr>\n",
       "  </thead>\n",
       "  <tbody>\n",
       "    <tr>\n",
       "      <th>0</th>\n",
       "      <td>56f3d07e-675a-11ee-8612-ff5ae65b72d3</td>\n",
       "      <td>pritesh</td>\n",
       "      <td>Hello@123456</td>\n",
       "    </tr>\n",
       "    <tr>\n",
       "      <th>1</th>\n",
       "      <td>d6bc21d0-675a-11ee-8612-ff5ae65b72d3</td>\n",
       "      <td>5</td>\n",
       "      <td>9892901083@a</td>\n",
       "    </tr>\n",
       "    <tr>\n",
       "      <th>2</th>\n",
       "      <td>db31d35e-6764-11ee-8612-ff5ae65b72d3</td>\n",
       "      <td>prit</td>\n",
       "      <td>D@123546789</td>\n",
       "    </tr>\n",
       "    <tr>\n",
       "      <th>3</th>\n",
       "      <td>ed8616dc-6764-11ee-8612-ff5ae65b72d3</td>\n",
       "      <td>lrb</td>\n",
       "      <td>lrb123456789!</td>\n",
       "    </tr>\n",
       "    <tr>\n",
       "      <th>4</th>\n",
       "      <td>f894cdde-6764-11ee-8612-ff5ae65b72d3</td>\n",
       "      <td>dsfg</td>\n",
       "      <td>adf52@4887514dfasd</td>\n",
       "    </tr>\n",
       "    <tr>\n",
       "      <th>5</th>\n",
       "      <td>547eee36-6765-11ee-8612-ff5ae65b72d3</td>\n",
       "      <td>Psdfsad</td>\n",
       "      <td>asdf2@q234q2345456</td>\n",
       "    </tr>\n",
       "    <tr>\n",
       "      <th>6</th>\n",
       "      <td>5dc2bb76-6765-11ee-8612-ff5ae65b72d3</td>\n",
       "      <td>Pasdfasdfasdf</td>\n",
       "      <td>P@1456dsfsadgfafrga</td>\n",
       "    </tr>\n",
       "  </tbody>\n",
       "</table>\n",
       "</div>"
      ],
      "text/plain": [
       "                                    mID        emailID             password\n",
       "0  56f3d07e-675a-11ee-8612-ff5ae65b72d3        pritesh         Hello@123456\n",
       "1  d6bc21d0-675a-11ee-8612-ff5ae65b72d3              5         9892901083@a\n",
       "2  db31d35e-6764-11ee-8612-ff5ae65b72d3           prit          D@123546789\n",
       "3  ed8616dc-6764-11ee-8612-ff5ae65b72d3            lrb        lrb123456789!\n",
       "4  f894cdde-6764-11ee-8612-ff5ae65b72d3           dsfg   adf52@4887514dfasd\n",
       "5  547eee36-6765-11ee-8612-ff5ae65b72d3        Psdfsad   asdf2@q234q2345456\n",
       "6  5dc2bb76-6765-11ee-8612-ff5ae65b72d3  Pasdfasdfasdf  P@1456dsfsadgfafrga"
      ]
     },
     "execution_count": 22,
     "metadata": {},
     "output_type": "execute_result"
    }
   ],
   "source": [
    "df = pd.read_csv(\"./IDPass.csv\")\n",
    "df"
   ]
  },
  {
   "cell_type": "code",
   "execution_count": 59,
   "id": "81b4d197-6186-4686-a199-54522c300c56",
   "metadata": {},
   "outputs": [
    {
     "data": {
      "text/html": [
       "<div>\n",
       "<style scoped>\n",
       "    .dataframe tbody tr th:only-of-type {\n",
       "        vertical-align: middle;\n",
       "    }\n",
       "\n",
       "    .dataframe tbody tr th {\n",
       "        vertical-align: top;\n",
       "    }\n",
       "\n",
       "    .dataframe thead th {\n",
       "        text-align: right;\n",
       "    }\n",
       "</style>\n",
       "<table border=\"1\" class=\"dataframe\">\n",
       "  <thead>\n",
       "    <tr style=\"text-align: right;\">\n",
       "      <th></th>\n",
       "      <th>Qid</th>\n",
       "      <th>text</th>\n",
       "      <th>author</th>\n",
       "      <th>mID</th>\n",
       "    </tr>\n",
       "  </thead>\n",
       "  <tbody>\n",
       "    <tr>\n",
       "      <th>0</th>\n",
       "      <td>f673fe64-676c-11ee-8612-ff5ae65b72d3</td>\n",
       "      <td>Live life full size</td>\n",
       "      <td>Scorpio</td>\n",
       "      <td>d6bc21d0-675a-11ee-8612-ff5ae65b72d3</td>\n",
       "    </tr>\n",
       "    <tr>\n",
       "      <th>1</th>\n",
       "      <td>ffbb9310-676c-11ee-8612-ff5ae65b72d3</td>\n",
       "      <td>Nothing like anything</td>\n",
       "      <td>Micromax</td>\n",
       "      <td>d6bc21d0-675a-11ee-8612-ff5ae65b72d3</td>\n",
       "    </tr>\n",
       "    <tr>\n",
       "      <th>2</th>\n",
       "      <td>b2009ed2-677a-11ee-8612-ff5ae65b72d3</td>\n",
       "      <td>I love my India</td>\n",
       "      <td>Dosti</td>\n",
       "      <td>56f3d07e-675a-11ee-8612-ff5ae65b72d3</td>\n",
       "    </tr>\n",
       "    <tr>\n",
       "      <th>3</th>\n",
       "      <td>865a85c6-677b-11ee-8612-ff5ae65b72d3</td>\n",
       "      <td>Work is workship</td>\n",
       "      <td>God</td>\n",
       "      <td>56f3d07e-675a-11ee-8612-ff5ae65b72d3</td>\n",
       "    </tr>\n",
       "  </tbody>\n",
       "</table>\n",
       "</div>"
      ],
      "text/plain": [
       "                                    Qid                   text    author  \\\n",
       "0  f673fe64-676c-11ee-8612-ff5ae65b72d3    Live life full size   Scorpio   \n",
       "1  ffbb9310-676c-11ee-8612-ff5ae65b72d3  Nothing like anything  Micromax   \n",
       "2  b2009ed2-677a-11ee-8612-ff5ae65b72d3        I love my India     Dosti   \n",
       "3  865a85c6-677b-11ee-8612-ff5ae65b72d3       Work is workship       God   \n",
       "\n",
       "                                    mID  \n",
       "0  d6bc21d0-675a-11ee-8612-ff5ae65b72d3  \n",
       "1  d6bc21d0-675a-11ee-8612-ff5ae65b72d3  \n",
       "2  56f3d07e-675a-11ee-8612-ff5ae65b72d3  \n",
       "3  56f3d07e-675a-11ee-8612-ff5ae65b72d3  "
      ]
     },
     "execution_count": 59,
     "metadata": {},
     "output_type": "execute_result"
    }
   ],
   "source": [
    "df = pd.read_csv(\"./quotes.csv\")\n",
    "df"
   ]
  },
  {
   "cell_type": "code",
   "execution_count": 63,
   "id": "7b330a58-1c0a-4b9c-911b-9a35cbcc4b00",
   "metadata": {},
   "outputs": [],
   "source": [
    "new_df = df[df[\"mID\"] == \"56f3d07e-675a-11ee-8612-ff5ae65b72d3\"][[\"author\",\"text\"]]"
   ]
  },
  {
   "cell_type": "code",
   "execution_count": 64,
   "id": "57247e6b-1945-4e60-a177-bed0ca7c1e78",
   "metadata": {},
   "outputs": [
    {
     "data": {
      "text/html": [
       "<div>\n",
       "<style scoped>\n",
       "    .dataframe tbody tr th:only-of-type {\n",
       "        vertical-align: middle;\n",
       "    }\n",
       "\n",
       "    .dataframe tbody tr th {\n",
       "        vertical-align: top;\n",
       "    }\n",
       "\n",
       "    .dataframe thead th {\n",
       "        text-align: right;\n",
       "    }\n",
       "</style>\n",
       "<table border=\"1\" class=\"dataframe\">\n",
       "  <thead>\n",
       "    <tr style=\"text-align: right;\">\n",
       "      <th></th>\n",
       "      <th>author</th>\n",
       "      <th>text</th>\n",
       "    </tr>\n",
       "  </thead>\n",
       "  <tbody>\n",
       "    <tr>\n",
       "      <th>2</th>\n",
       "      <td>Dosti</td>\n",
       "      <td>I love my India</td>\n",
       "    </tr>\n",
       "    <tr>\n",
       "      <th>3</th>\n",
       "      <td>God</td>\n",
       "      <td>Work is workship</td>\n",
       "    </tr>\n",
       "  </tbody>\n",
       "</table>\n",
       "</div>"
      ],
      "text/plain": [
       "  author              text\n",
       "2  Dosti   I love my India\n",
       "3    God  Work is workship"
      ]
     },
     "execution_count": 64,
     "metadata": {},
     "output_type": "execute_result"
    }
   ],
   "source": [
    "new_df"
   ]
  },
  {
   "cell_type": "code",
   "execution_count": 65,
   "id": "3e68030e-6289-4b1a-a238-c541d9ce2878",
   "metadata": {},
   "outputs": [],
   "source": [
    "val = 2"
   ]
  },
  {
   "cell_type": "code",
   "execution_count": 40,
   "id": "21aae38f-c477-45da-9603-7d32ff35f40c",
   "metadata": {},
   "outputs": [],
   "source": [
    "miid = \t\"d6bc21d0-675a-11ee-8612-ff5ae65b72d3\""
   ]
  },
  {
   "cell_type": "code",
   "execution_count": 68,
   "id": "f977f068-7b89-4205-b9df-b03422219ff7",
   "metadata": {},
   "outputs": [
    {
     "data": {
      "text/html": [
       "<div>\n",
       "<style scoped>\n",
       "    .dataframe tbody tr th:only-of-type {\n",
       "        vertical-align: middle;\n",
       "    }\n",
       "\n",
       "    .dataframe tbody tr th {\n",
       "        vertical-align: top;\n",
       "    }\n",
       "\n",
       "    .dataframe thead th {\n",
       "        text-align: right;\n",
       "    }\n",
       "</style>\n",
       "<table border=\"1\" class=\"dataframe\">\n",
       "  <thead>\n",
       "    <tr style=\"text-align: right;\">\n",
       "      <th></th>\n",
       "      <th>author</th>\n",
       "      <th>text</th>\n",
       "    </tr>\n",
       "  </thead>\n",
       "  <tbody>\n",
       "    <tr>\n",
       "      <th>2</th>\n",
       "      <td>Dosti</td>\n",
       "      <td>I love my India</td>\n",
       "    </tr>\n",
       "  </tbody>\n",
       "</table>\n",
       "</div>"
      ],
      "text/plain": [
       "  author             text\n",
       "2  Dosti  I love my India"
      ]
     },
     "execution_count": 68,
     "metadata": {},
     "output_type": "execute_result"
    }
   ],
   "source": [
    "y = new_df.iloc[[0]]\n",
    "y"
   ]
  },
  {
   "cell_type": "code",
   "execution_count": null,
   "id": "a036933a-654d-4928-8771-2eea51c9b917",
   "metadata": {},
   "outputs": [],
   "source": [
    "\"Qid\",\"text\",\"author\",\"mID\""
   ]
  },
  {
   "cell_type": "code",
   "execution_count": 58,
   "id": "f6575b31-4b85-46c4-a175-b25852be5149",
   "metadata": {},
   "outputs": [
    {
     "data": {
      "text/plain": [
       "array([['b2009ed2-677a-11ee-8612-ff5ae65b72d3', nan, 'I love my India',\n",
       "        'Dosti', '56f3d07e-675a-11ee-8612-ff5ae65b72d3']], dtype=object)"
      ]
     },
     "execution_count": 58,
     "metadata": {},
     "output_type": "execute_result"
    }
   ],
   "source": [
    "x = df.iloc[[val]].values\n",
    "x"
   ]
  },
  {
   "cell_type": "code",
   "execution_count": 51,
   "id": "53e8211f-860c-472b-9892-de62cf77dc8e",
   "metadata": {},
   "outputs": [
    {
     "data": {
      "text/plain": [
       "array(['f673fe64-676c-11ee-8612-ff5ae65b72d3', 'Live life full size',\n",
       "       'Scorpio', 'd6bc21d0-675a-11ee-8612-ff5ae65b72d3'], dtype=object)"
      ]
     },
     "execution_count": 51,
     "metadata": {},
     "output_type": "execute_result"
    }
   ],
   "source": [
    "x.values[0]"
   ]
  },
  {
   "cell_type": "code",
   "execution_count": 49,
   "id": "f49549db-aa5f-46cf-9028-4f8a990cb7f7",
   "metadata": {},
   "outputs": [
    {
     "data": {
      "text/html": [
       "<div>\n",
       "<style scoped>\n",
       "    .dataframe tbody tr th:only-of-type {\n",
       "        vertical-align: middle;\n",
       "    }\n",
       "\n",
       "    .dataframe tbody tr th {\n",
       "        vertical-align: top;\n",
       "    }\n",
       "\n",
       "    .dataframe thead th {\n",
       "        text-align: right;\n",
       "    }\n",
       "</style>\n",
       "<table border=\"1\" class=\"dataframe\">\n",
       "  <thead>\n",
       "    <tr style=\"text-align: right;\">\n",
       "      <th></th>\n",
       "      <th>Qid</th>\n",
       "      <th>text</th>\n",
       "      <th>author</th>\n",
       "      <th>mID</th>\n",
       "    </tr>\n",
       "  </thead>\n",
       "  <tbody>\n",
       "    <tr>\n",
       "      <th>0</th>\n",
       "      <td>dee1005e-676b-11ee-8612-ff5ae65b72d3</td>\n",
       "      <td>One step at a time</td>\n",
       "      <td>Unknown</td>\n",
       "      <td>56f3d07e-675a-11ee-8612-ff5ae65b72d3</td>\n",
       "    </tr>\n",
       "    <tr>\n",
       "      <th>1</th>\n",
       "      <td>f673fe64-676c-11ee-8612-ff5ae65b72d3</td>\n",
       "      <td>Live life full size</td>\n",
       "      <td>Scorpio</td>\n",
       "      <td>d6bc21d0-675a-11ee-8612-ff5ae65b72d3</td>\n",
       "    </tr>\n",
       "    <tr>\n",
       "      <th>2</th>\n",
       "      <td>ffbb9310-676c-11ee-8612-ff5ae65b72d3</td>\n",
       "      <td>Nothing like anything</td>\n",
       "      <td>Micromax</td>\n",
       "      <td>d6bc21d0-675a-11ee-8612-ff5ae65b72d3</td>\n",
       "    </tr>\n",
       "  </tbody>\n",
       "</table>\n",
       "</div>"
      ],
      "text/plain": [
       "                                    Qid                   text    author  \\\n",
       "0  dee1005e-676b-11ee-8612-ff5ae65b72d3     One step at a time   Unknown   \n",
       "1  f673fe64-676c-11ee-8612-ff5ae65b72d3    Live life full size   Scorpio   \n",
       "2  ffbb9310-676c-11ee-8612-ff5ae65b72d3  Nothing like anything  Micromax   \n",
       "\n",
       "                                    mID  \n",
       "0  56f3d07e-675a-11ee-8612-ff5ae65b72d3  \n",
       "1  d6bc21d0-675a-11ee-8612-ff5ae65b72d3  \n",
       "2  d6bc21d0-675a-11ee-8612-ff5ae65b72d3  "
      ]
     },
     "execution_count": 49,
     "metadata": {},
     "output_type": "execute_result"
    }
   ],
   "source": [
    "df"
   ]
  },
  {
   "cell_type": "code",
   "execution_count": null,
   "id": "f0125b93-2e22-400a-8176-8eae280d597f",
   "metadata": {},
   "outputs": [],
   "source": []
  },
  {
   "cell_type": "code",
   "execution_count": 69,
   "id": "e5a7c0c5-2bc9-426d-8819-b0a84a04bcae",
   "metadata": {},
   "outputs": [],
   "source": [
    "\n",
    "\n",
    "# Define column names\n",
    "columns = [\"Qid\", \"text\", \"author\", \"mID\"]\n",
    "\n",
    "# Create an empty DataFrame with specified headers\n",
    "df = pd.DataFrame(columns=columns)\n",
    "\n",
    "df.to_csv(\"./quotes.csv\")\n"
   ]
  },
  {
   "cell_type": "code",
   "execution_count": null,
   "id": "8c9ed31d-35ff-483b-ade8-03e4445088e2",
   "metadata": {},
   "outputs": [],
   "source": []
  },
  {
   "cell_type": "code",
   "execution_count": null,
   "id": "10adc7a7-dd64-4b36-a25e-47c55309f289",
   "metadata": {},
   "outputs": [],
   "source": []
  },
  {
   "cell_type": "code",
   "execution_count": null,
   "id": "7d9a14a7-d1e1-4dff-b5d0-38d501df88eb",
   "metadata": {},
   "outputs": [],
   "source": []
  },
  {
   "cell_type": "code",
   "execution_count": null,
   "id": "d4fed694-71bc-4c3e-bdca-ef67eca81dea",
   "metadata": {},
   "outputs": [],
   "source": []
  },
  {
   "cell_type": "code",
   "execution_count": null,
   "id": "cf33fc6c-cab3-4837-82db-053a7e1b6f99",
   "metadata": {},
   "outputs": [],
   "source": []
  },
  {
   "cell_type": "code",
   "execution_count": null,
   "id": "5cb421bf-2132-42db-be42-5bc61b6c19e0",
   "metadata": {},
   "outputs": [],
   "source": []
  },
  {
   "cell_type": "code",
   "execution_count": 28,
   "id": "5c0d5039-9463-4d1c-b463-d0542c20071c",
   "metadata": {},
   "outputs": [],
   "source": [
    "import pandas as pd\n",
    "\n",
    "# Create a sample DataFrame\n",
    "data = {'A': [1, 2, 3],\n",
    "        'B': [4, 5, 6],\n",
    "        'C': [7, 8, 9]}\n",
    "\n",
    "df = pd.DataFrame(data)\n"
   ]
  },
  {
   "cell_type": "code",
   "execution_count": 29,
   "id": "b9c93c5a-3bf8-4b84-af5a-3920df20dd9a",
   "metadata": {},
   "outputs": [
    {
     "data": {
      "text/html": [
       "<div>\n",
       "<style scoped>\n",
       "    .dataframe tbody tr th:only-of-type {\n",
       "        vertical-align: middle;\n",
       "    }\n",
       "\n",
       "    .dataframe tbody tr th {\n",
       "        vertical-align: top;\n",
       "    }\n",
       "\n",
       "    .dataframe thead th {\n",
       "        text-align: right;\n",
       "    }\n",
       "</style>\n",
       "<table border=\"1\" class=\"dataframe\">\n",
       "  <thead>\n",
       "    <tr style=\"text-align: right;\">\n",
       "      <th></th>\n",
       "      <th>A</th>\n",
       "      <th>B</th>\n",
       "      <th>C</th>\n",
       "    </tr>\n",
       "  </thead>\n",
       "  <tbody>\n",
       "    <tr>\n",
       "      <th>0</th>\n",
       "      <td>1</td>\n",
       "      <td>4</td>\n",
       "      <td>7</td>\n",
       "    </tr>\n",
       "    <tr>\n",
       "      <th>1</th>\n",
       "      <td>2</td>\n",
       "      <td>5</td>\n",
       "      <td>8</td>\n",
       "    </tr>\n",
       "    <tr>\n",
       "      <th>2</th>\n",
       "      <td>3</td>\n",
       "      <td>6</td>\n",
       "      <td>9</td>\n",
       "    </tr>\n",
       "  </tbody>\n",
       "</table>\n",
       "</div>"
      ],
      "text/plain": [
       "   A  B  C\n",
       "0  1  4  7\n",
       "1  2  5  8\n",
       "2  3  6  9"
      ]
     },
     "execution_count": 29,
     "metadata": {},
     "output_type": "execute_result"
    }
   ],
   "source": [
    "df"
   ]
  },
  {
   "cell_type": "code",
   "execution_count": 30,
   "id": "7efafb02-48d9-4410-8ca6-95a02591a7d5",
   "metadata": {},
   "outputs": [
    {
     "data": {
      "text/plain": [
       "4"
      ]
     },
     "execution_count": 30,
     "metadata": {},
     "output_type": "execute_result"
    }
   ],
   "source": [
    "\n",
    "# Select a single element (row 0, column 1)\n",
    "element = df.iloc[0, 1]  # element is 4\n",
    "element\n"
   ]
  },
  {
   "cell_type": "code",
   "execution_count": 32,
   "id": "d73a9cfd-3dd1-4b31-a71d-3bcff2539165",
   "metadata": {},
   "outputs": [
    {
     "data": {
      "text/plain": [
       "0    7\n",
       "1    8\n",
       "2    9\n",
       "Name: C, dtype: int64"
      ]
     },
     "execution_count": 32,
     "metadata": {},
     "output_type": "execute_result"
    }
   ],
   "source": [
    "\n",
    "# Select a single column (column 2)\n",
    "column = df.iloc[:, 2]  # column is a Series containing [7, 8, 9]\n",
    "column\n"
   ]
  },
  {
   "cell_type": "code",
   "execution_count": 33,
   "id": "f3163fc2-6e92-475e-9896-bdcef7d711c7",
   "metadata": {},
   "outputs": [],
   "source": [
    "# Select a subset of rows and columns\n",
    "subset = df.iloc[1:3, 0:2]  # subset is a DataFrame containing rows 1 and 2, and columns 0 and 1"
   ]
  },
  {
   "cell_type": "code",
   "execution_count": 34,
   "id": "60d4fd6f-7d11-48cf-8c2d-08054c9ce7b9",
   "metadata": {},
   "outputs": [
    {
     "data": {
      "text/html": [
       "<div>\n",
       "<style scoped>\n",
       "    .dataframe tbody tr th:only-of-type {\n",
       "        vertical-align: middle;\n",
       "    }\n",
       "\n",
       "    .dataframe tbody tr th {\n",
       "        vertical-align: top;\n",
       "    }\n",
       "\n",
       "    .dataframe thead th {\n",
       "        text-align: right;\n",
       "    }\n",
       "</style>\n",
       "<table border=\"1\" class=\"dataframe\">\n",
       "  <thead>\n",
       "    <tr style=\"text-align: right;\">\n",
       "      <th></th>\n",
       "      <th>A</th>\n",
       "      <th>B</th>\n",
       "    </tr>\n",
       "  </thead>\n",
       "  <tbody>\n",
       "    <tr>\n",
       "      <th>1</th>\n",
       "      <td>2</td>\n",
       "      <td>5</td>\n",
       "    </tr>\n",
       "    <tr>\n",
       "      <th>2</th>\n",
       "      <td>3</td>\n",
       "      <td>6</td>\n",
       "    </tr>\n",
       "  </tbody>\n",
       "</table>\n",
       "</div>"
      ],
      "text/plain": [
       "   A  B\n",
       "1  2  5\n",
       "2  3  6"
      ]
     },
     "execution_count": 34,
     "metadata": {},
     "output_type": "execute_result"
    }
   ],
   "source": [
    "subset"
   ]
  },
  {
   "cell_type": "code",
   "execution_count": 70,
   "id": "7a01401b-5471-4ea2-a54c-df06bfb8f30f",
   "metadata": {},
   "outputs": [
    {
     "data": {
      "text/html": [
       "<div>\n",
       "<style scoped>\n",
       "    .dataframe tbody tr th:only-of-type {\n",
       "        vertical-align: middle;\n",
       "    }\n",
       "\n",
       "    .dataframe tbody tr th {\n",
       "        vertical-align: top;\n",
       "    }\n",
       "\n",
       "    .dataframe thead th {\n",
       "        text-align: right;\n",
       "    }\n",
       "</style>\n",
       "<table border=\"1\" class=\"dataframe\">\n",
       "  <thead>\n",
       "    <tr style=\"text-align: right;\">\n",
       "      <th></th>\n",
       "      <th>Qid</th>\n",
       "      <th>text</th>\n",
       "      <th>author</th>\n",
       "      <th>mID</th>\n",
       "    </tr>\n",
       "  </thead>\n",
       "  <tbody>\n",
       "  </tbody>\n",
       "</table>\n",
       "</div>"
      ],
      "text/plain": [
       "Empty DataFrame\n",
       "Columns: [Qid, text, author, mID]\n",
       "Index: []"
      ]
     },
     "execution_count": 70,
     "metadata": {},
     "output_type": "execute_result"
    }
   ],
   "source": [
    "df = pd.read_csv(\"./quotes.csv\")\n",
    "df\n"
   ]
  },
  {
   "cell_type": "code",
   "execution_count": 96,
   "id": "f5facd03-54ed-407b-bacc-fedf56f7d9dd",
   "metadata": {},
   "outputs": [],
   "source": [
    "data = [\n",
    "    {\"Qid\": 1, \"text\": \"Sample text 1\", \"author\": \"Author A\", \"mID\": \"ID001\"},\n",
    "    {\"Qid\": 2, \"text\": \"Sample text 2\", \"author\": \"Author B\", \"mID\": \"ID002\"},\n",
    "    {\"Qid\": 3, \"text\": \"Sample text 3\", \"author\": \"Author C\", \"mID\": \"ID003\"},\n",
    "    {\"Qid\": 4, \"text\": \"Sample text 4\", \"author\": \"Author D\", \"mID\": \"ID004\"},\n",
    "    # Add more rows as needed\n",
    "]"
   ]
  },
  {
   "cell_type": "code",
   "execution_count": 97,
   "id": "1fd18d0a-c3a6-4cd8-8ed2-32a7b7d38628",
   "metadata": {},
   "outputs": [],
   "source": [
    "df = pd.DataFrame(data)"
   ]
  },
  {
   "cell_type": "code",
   "execution_count": 100,
   "id": "78398a9b-fb89-400c-aa49-3c26425ef6e0",
   "metadata": {},
   "outputs": [
    {
     "data": {
      "text/html": [
       "<div>\n",
       "<style scoped>\n",
       "    .dataframe tbody tr th:only-of-type {\n",
       "        vertical-align: middle;\n",
       "    }\n",
       "\n",
       "    .dataframe tbody tr th {\n",
       "        vertical-align: top;\n",
       "    }\n",
       "\n",
       "    .dataframe thead th {\n",
       "        text-align: right;\n",
       "    }\n",
       "</style>\n",
       "<table border=\"1\" class=\"dataframe\">\n",
       "  <thead>\n",
       "    <tr style=\"text-align: right;\">\n",
       "      <th></th>\n",
       "      <th>Qid</th>\n",
       "      <th>text</th>\n",
       "      <th>author</th>\n",
       "    </tr>\n",
       "    <tr>\n",
       "      <th>mID</th>\n",
       "      <th></th>\n",
       "      <th></th>\n",
       "      <th></th>\n",
       "    </tr>\n",
       "  </thead>\n",
       "  <tbody>\n",
       "    <tr>\n",
       "      <th>ID001</th>\n",
       "      <td>1</td>\n",
       "      <td>Sample text 1</td>\n",
       "      <td>Author A</td>\n",
       "    </tr>\n",
       "    <tr>\n",
       "      <th>ID002</th>\n",
       "      <td>2</td>\n",
       "      <td>Sample text 2</td>\n",
       "      <td>Author B</td>\n",
       "    </tr>\n",
       "    <tr>\n",
       "      <th>ID003</th>\n",
       "      <td>3</td>\n",
       "      <td>Sample text 3</td>\n",
       "      <td>Author C</td>\n",
       "    </tr>\n",
       "    <tr>\n",
       "      <th>ID004</th>\n",
       "      <td>4</td>\n",
       "      <td>Sample text 4</td>\n",
       "      <td>Author D</td>\n",
       "    </tr>\n",
       "  </tbody>\n",
       "</table>\n",
       "</div>"
      ],
      "text/plain": [
       "       Qid           text    author\n",
       "mID                                \n",
       "ID001    1  Sample text 1  Author A\n",
       "ID002    2  Sample text 2  Author B\n",
       "ID003    3  Sample text 3  Author C\n",
       "ID004    4  Sample text 4  Author D"
      ]
     },
     "execution_count": 100,
     "metadata": {},
     "output_type": "execute_result"
    }
   ],
   "source": [
    "df.set_index(\"mID\")"
   ]
  },
  {
   "cell_type": "code",
   "execution_count": 101,
   "id": "2032ebac-3ccb-434c-9064-847af0cf30b4",
   "metadata": {},
   "outputs": [],
   "source": [
    "df.to_csv(\"./quotes1.csv\")"
   ]
  },
  {
   "cell_type": "code",
   "execution_count": 106,
   "id": "0601898a-5149-4d6f-a355-63a50dc1091a",
   "metadata": {},
   "outputs": [],
   "source": [
    "df = pd.read_csv(\"./quotes1.csv\")"
   ]
  },
  {
   "cell_type": "code",
   "execution_count": 107,
   "id": "453ab95c-0eaa-454d-9301-29af36ce1f14",
   "metadata": {},
   "outputs": [
    {
     "data": {
      "text/html": [
       "<div>\n",
       "<style scoped>\n",
       "    .dataframe tbody tr th:only-of-type {\n",
       "        vertical-align: middle;\n",
       "    }\n",
       "\n",
       "    .dataframe tbody tr th {\n",
       "        vertical-align: top;\n",
       "    }\n",
       "\n",
       "    .dataframe thead th {\n",
       "        text-align: right;\n",
       "    }\n",
       "</style>\n",
       "<table border=\"1\" class=\"dataframe\">\n",
       "  <thead>\n",
       "    <tr style=\"text-align: right;\">\n",
       "      <th></th>\n",
       "      <th>Unnamed: 0</th>\n",
       "      <th>Qid</th>\n",
       "      <th>text</th>\n",
       "      <th>author</th>\n",
       "      <th>mID</th>\n",
       "    </tr>\n",
       "  </thead>\n",
       "  <tbody>\n",
       "    <tr>\n",
       "      <th>0</th>\n",
       "      <td>0</td>\n",
       "      <td>1</td>\n",
       "      <td>Sample text 1</td>\n",
       "      <td>Author A</td>\n",
       "      <td>ID001</td>\n",
       "    </tr>\n",
       "    <tr>\n",
       "      <th>1</th>\n",
       "      <td>1</td>\n",
       "      <td>2</td>\n",
       "      <td>Sample text 2</td>\n",
       "      <td>Author B</td>\n",
       "      <td>ID002</td>\n",
       "    </tr>\n",
       "    <tr>\n",
       "      <th>2</th>\n",
       "      <td>2</td>\n",
       "      <td>3</td>\n",
       "      <td>Sample text 3</td>\n",
       "      <td>Author C</td>\n",
       "      <td>ID003</td>\n",
       "    </tr>\n",
       "    <tr>\n",
       "      <th>3</th>\n",
       "      <td>3</td>\n",
       "      <td>4</td>\n",
       "      <td>Sample text 4</td>\n",
       "      <td>Author D</td>\n",
       "      <td>ID004</td>\n",
       "    </tr>\n",
       "  </tbody>\n",
       "</table>\n",
       "</div>"
      ],
      "text/plain": [
       "   Unnamed: 0  Qid           text    author    mID\n",
       "0           0    1  Sample text 1  Author A  ID001\n",
       "1           1    2  Sample text 2  Author B  ID002\n",
       "2           2    3  Sample text 3  Author C  ID003\n",
       "3           3    4  Sample text 4  Author D  ID004"
      ]
     },
     "execution_count": 107,
     "metadata": {},
     "output_type": "execute_result"
    }
   ],
   "source": [
    "df"
   ]
  },
  {
   "cell_type": "code",
   "execution_count": 108,
   "id": "76007398-4c43-4761-9c19-fb1759c6fcfb",
   "metadata": {},
   "outputs": [
    {
     "data": {
      "text/plain": [
       "4"
      ]
     },
     "execution_count": 108,
     "metadata": {},
     "output_type": "execute_result"
    }
   ],
   "source": [
    "len(df)"
   ]
  },
  {
   "cell_type": "code",
   "execution_count": 109,
   "id": "7f7186c9-4ab7-45d7-b128-401ed561baf0",
   "metadata": {},
   "outputs": [],
   "source": [
    "data = {\"Qindex\":1 ,\n",
    "                 \"Qid\":2,\n",
    "                \"text\":3,\n",
    "                \"author\":4,\n",
    "                \"mID\":5\n",
    "                }\n",
    "df = pd.DataFrame(data,index=[0])"
   ]
  },
  {
   "cell_type": "code",
   "execution_count": 110,
   "id": "4d8c8e26-1f4b-414d-8cb2-c2f4925c513e",
   "metadata": {},
   "outputs": [
    {
     "data": {
      "text/html": [
       "<div>\n",
       "<style scoped>\n",
       "    .dataframe tbody tr th:only-of-type {\n",
       "        vertical-align: middle;\n",
       "    }\n",
       "\n",
       "    .dataframe tbody tr th {\n",
       "        vertical-align: top;\n",
       "    }\n",
       "\n",
       "    .dataframe thead th {\n",
       "        text-align: right;\n",
       "    }\n",
       "</style>\n",
       "<table border=\"1\" class=\"dataframe\">\n",
       "  <thead>\n",
       "    <tr style=\"text-align: right;\">\n",
       "      <th></th>\n",
       "      <th>Qindex</th>\n",
       "      <th>Qid</th>\n",
       "      <th>text</th>\n",
       "      <th>author</th>\n",
       "      <th>mID</th>\n",
       "    </tr>\n",
       "  </thead>\n",
       "  <tbody>\n",
       "    <tr>\n",
       "      <th>0</th>\n",
       "      <td>1</td>\n",
       "      <td>2</td>\n",
       "      <td>3</td>\n",
       "      <td>4</td>\n",
       "      <td>5</td>\n",
       "    </tr>\n",
       "  </tbody>\n",
       "</table>\n",
       "</div>"
      ],
      "text/plain": [
       "   Qindex  Qid  text  author  mID\n",
       "0       1    2     3       4    5"
      ]
     },
     "execution_count": 110,
     "metadata": {},
     "output_type": "execute_result"
    }
   ],
   "source": [
    "df"
   ]
  },
  {
   "cell_type": "code",
   "execution_count": 112,
   "id": "3497abda-d883-4ed7-9bfa-442676ee033d",
   "metadata": {},
   "outputs": [],
   "source": [
    "df.to_csv(\"./quotes.csv\")"
   ]
  },
  {
   "cell_type": "code",
   "execution_count": 113,
   "id": "4983fd22-1b91-4084-a542-f14c197d9385",
   "metadata": {},
   "outputs": [],
   "source": [
    "quotes_df = pd.read_csv(\"./quotes.csv\",index_col=0)"
   ]
  },
  {
   "cell_type": "code",
   "execution_count": 114,
   "id": "3cbe84f4-8bc5-457a-992e-eea1b925a8ac",
   "metadata": {},
   "outputs": [
    {
     "data": {
      "text/html": [
       "<div>\n",
       "<style scoped>\n",
       "    .dataframe tbody tr th:only-of-type {\n",
       "        vertical-align: middle;\n",
       "    }\n",
       "\n",
       "    .dataframe tbody tr th {\n",
       "        vertical-align: top;\n",
       "    }\n",
       "\n",
       "    .dataframe thead th {\n",
       "        text-align: right;\n",
       "    }\n",
       "</style>\n",
       "<table border=\"1\" class=\"dataframe\">\n",
       "  <thead>\n",
       "    <tr style=\"text-align: right;\">\n",
       "      <th></th>\n",
       "      <th>Qid</th>\n",
       "      <th>text</th>\n",
       "      <th>author</th>\n",
       "      <th>mID</th>\n",
       "    </tr>\n",
       "  </thead>\n",
       "  <tbody>\n",
       "    <tr>\n",
       "      <th>0</th>\n",
       "      <td>f0e0e246-678f-11ee-8612-ff5ae65b72d3</td>\n",
       "      <td>Heyy Vaish</td>\n",
       "      <td>v</td>\n",
       "      <td>56f3d07e-675a-11ee-8612-ff5ae65b72d3</td>\n",
       "    </tr>\n",
       "    <tr>\n",
       "      <th>1</th>\n",
       "      <td>f728655c-678f-11ee-8612-ff5ae65b72d3</td>\n",
       "      <td>not now</td>\n",
       "      <td>v</td>\n",
       "      <td>56f3d07e-675a-11ee-8612-ff5ae65b72d3</td>\n",
       "    </tr>\n",
       "    <tr>\n",
       "      <th>2</th>\n",
       "      <td>08fc7b6a-6790-11ee-8612-ff5ae65b72d3</td>\n",
       "      <td>then when</td>\n",
       "      <td>S</td>\n",
       "      <td>d6bc21d0-675a-11ee-8612-ff5ae65b72d3</td>\n",
       "    </tr>\n",
       "    <tr>\n",
       "      <th>3</th>\n",
       "      <td>1749661a-6790-11ee-8612-ff5ae65b72d3</td>\n",
       "      <td>abhi nahi to kabhi nahi</td>\n",
       "      <td>s1</td>\n",
       "      <td>d6bc21d0-675a-11ee-8612-ff5ae65b72d3</td>\n",
       "    </tr>\n",
       "    <tr>\n",
       "      <th>4</th>\n",
       "      <td>3ff602bc-6790-11ee-8612-ff5ae65b72d3</td>\n",
       "      <td>hello myself</td>\n",
       "      <td>joker</td>\n",
       "      <td>56f3d07e-675a-11ee-8612-ff5ae65b72d3</td>\n",
       "    </tr>\n",
       "  </tbody>\n",
       "</table>\n",
       "</div>"
      ],
      "text/plain": [
       "                                    Qid                     text author  \\\n",
       "0  f0e0e246-678f-11ee-8612-ff5ae65b72d3               Heyy Vaish      v   \n",
       "1  f728655c-678f-11ee-8612-ff5ae65b72d3                  not now      v   \n",
       "2  08fc7b6a-6790-11ee-8612-ff5ae65b72d3                then when      S   \n",
       "3  1749661a-6790-11ee-8612-ff5ae65b72d3  abhi nahi to kabhi nahi     s1   \n",
       "4  3ff602bc-6790-11ee-8612-ff5ae65b72d3             hello myself  joker   \n",
       "\n",
       "                                    mID  \n",
       "0  56f3d07e-675a-11ee-8612-ff5ae65b72d3  \n",
       "1  56f3d07e-675a-11ee-8612-ff5ae65b72d3  \n",
       "2  d6bc21d0-675a-11ee-8612-ff5ae65b72d3  \n",
       "3  d6bc21d0-675a-11ee-8612-ff5ae65b72d3  \n",
       "4  56f3d07e-675a-11ee-8612-ff5ae65b72d3  "
      ]
     },
     "execution_count": 114,
     "metadata": {},
     "output_type": "execute_result"
    }
   ],
   "source": [
    "quotes_df"
   ]
  },
  {
   "cell_type": "code",
   "execution_count": 118,
   "id": "6d90a571-ba80-4310-9604-57542fcc8943",
   "metadata": {},
   "outputs": [
    {
     "data": {
      "text/html": [
       "<div>\n",
       "<style scoped>\n",
       "    .dataframe tbody tr th:only-of-type {\n",
       "        vertical-align: middle;\n",
       "    }\n",
       "\n",
       "    .dataframe tbody tr th {\n",
       "        vertical-align: top;\n",
       "    }\n",
       "\n",
       "    .dataframe thead th {\n",
       "        text-align: right;\n",
       "    }\n",
       "</style>\n",
       "<table border=\"1\" class=\"dataframe\">\n",
       "  <thead>\n",
       "    <tr style=\"text-align: right;\">\n",
       "      <th></th>\n",
       "      <th>Qid</th>\n",
       "      <th>text</th>\n",
       "      <th>author</th>\n",
       "      <th>mID</th>\n",
       "    </tr>\n",
       "    <tr>\n",
       "      <th>index</th>\n",
       "      <th></th>\n",
       "      <th></th>\n",
       "      <th></th>\n",
       "      <th></th>\n",
       "    </tr>\n",
       "  </thead>\n",
       "  <tbody>\n",
       "    <tr>\n",
       "      <th>0</th>\n",
       "      <td>f0e0e246-678f-11ee-8612-ff5ae65b72d3</td>\n",
       "      <td>Heyy Vaish</td>\n",
       "      <td>v</td>\n",
       "      <td>56f3d07e-675a-11ee-8612-ff5ae65b72d3</td>\n",
       "    </tr>\n",
       "    <tr>\n",
       "      <th>1</th>\n",
       "      <td>f728655c-678f-11ee-8612-ff5ae65b72d3</td>\n",
       "      <td>not now</td>\n",
       "      <td>v</td>\n",
       "      <td>56f3d07e-675a-11ee-8612-ff5ae65b72d3</td>\n",
       "    </tr>\n",
       "    <tr>\n",
       "      <th>4</th>\n",
       "      <td>3ff602bc-6790-11ee-8612-ff5ae65b72d3</td>\n",
       "      <td>hello myself</td>\n",
       "      <td>joker</td>\n",
       "      <td>56f3d07e-675a-11ee-8612-ff5ae65b72d3</td>\n",
       "    </tr>\n",
       "  </tbody>\n",
       "</table>\n",
       "</div>"
      ],
      "text/plain": [
       "                                        Qid          text author  \\\n",
       "index                                                              \n",
       "0      f0e0e246-678f-11ee-8612-ff5ae65b72d3    Heyy Vaish      v   \n",
       "1      f728655c-678f-11ee-8612-ff5ae65b72d3       not now      v   \n",
       "4      3ff602bc-6790-11ee-8612-ff5ae65b72d3  hello myself  joker   \n",
       "\n",
       "                                        mID  \n",
       "index                                        \n",
       "0      56f3d07e-675a-11ee-8612-ff5ae65b72d3  \n",
       "1      56f3d07e-675a-11ee-8612-ff5ae65b72d3  \n",
       "4      56f3d07e-675a-11ee-8612-ff5ae65b72d3  "
      ]
     },
     "execution_count": 118,
     "metadata": {},
     "output_type": "execute_result"
    }
   ],
   "source": [
    "quotes_df[quotes_df[\"mID\"] == \"56f3d07e-675a-11ee-8612-ff5ae65b72d3\"].reset_index().set_index(\"index\")"
   ]
  },
  {
   "cell_type": "code",
   "execution_count": 139,
   "id": "c483aed5-919a-4a21-8270-0f429db1102f",
   "metadata": {},
   "outputs": [
    {
     "data": {
      "text/plain": [
       "'pritesh'"
      ]
     },
     "execution_count": 139,
     "metadata": {},
     "output_type": "execute_result"
    }
   ],
   "source": [
    "df = pd.read_csv(\"./IDPass.csv\")\n",
    "x = df.loc[df[\"mID\"] ==\"56f3d07e-675a-11ee-8612-ff5ae65b72d3\",\"emailID\" ]\n",
    "x.values[0]"
   ]
  },
  {
   "cell_type": "code",
   "execution_count": 140,
   "id": "9076dbc1-2213-474a-8cd8-a0c3bd6169e1",
   "metadata": {},
   "outputs": [
    {
     "data": {
      "text/html": [
       "<div>\n",
       "<style scoped>\n",
       "    .dataframe tbody tr th:only-of-type {\n",
       "        vertical-align: middle;\n",
       "    }\n",
       "\n",
       "    .dataframe tbody tr th {\n",
       "        vertical-align: top;\n",
       "    }\n",
       "\n",
       "    .dataframe thead th {\n",
       "        text-align: right;\n",
       "    }\n",
       "</style>\n",
       "<table border=\"1\" class=\"dataframe\">\n",
       "  <thead>\n",
       "    <tr style=\"text-align: right;\">\n",
       "      <th></th>\n",
       "      <th>mID</th>\n",
       "      <th>emailID</th>\n",
       "      <th>password</th>\n",
       "    </tr>\n",
       "  </thead>\n",
       "  <tbody>\n",
       "    <tr>\n",
       "      <th>0</th>\n",
       "      <td>56f3d07e-675a-11ee-8612-ff5ae65b72d3</td>\n",
       "      <td>pritesh</td>\n",
       "      <td>Hello@123456</td>\n",
       "    </tr>\n",
       "    <tr>\n",
       "      <th>1</th>\n",
       "      <td>d6bc21d0-675a-11ee-8612-ff5ae65b72d3</td>\n",
       "      <td>5</td>\n",
       "      <td>9892901083@a</td>\n",
       "    </tr>\n",
       "    <tr>\n",
       "      <th>2</th>\n",
       "      <td>db31d35e-6764-11ee-8612-ff5ae65b72d3</td>\n",
       "      <td>prit</td>\n",
       "      <td>D@123546789</td>\n",
       "    </tr>\n",
       "    <tr>\n",
       "      <th>3</th>\n",
       "      <td>ed8616dc-6764-11ee-8612-ff5ae65b72d3</td>\n",
       "      <td>lrb</td>\n",
       "      <td>lrb123456789!</td>\n",
       "    </tr>\n",
       "    <tr>\n",
       "      <th>4</th>\n",
       "      <td>f894cdde-6764-11ee-8612-ff5ae65b72d3</td>\n",
       "      <td>dsfg</td>\n",
       "      <td>adf52@4887514dfasd</td>\n",
       "    </tr>\n",
       "    <tr>\n",
       "      <th>5</th>\n",
       "      <td>547eee36-6765-11ee-8612-ff5ae65b72d3</td>\n",
       "      <td>Psdfsad</td>\n",
       "      <td>asdf2@q234q2345456</td>\n",
       "    </tr>\n",
       "    <tr>\n",
       "      <th>6</th>\n",
       "      <td>5dc2bb76-6765-11ee-8612-ff5ae65b72d3</td>\n",
       "      <td>Pasdfasdfasdf</td>\n",
       "      <td>P@1456dsfsadgfafrga</td>\n",
       "    </tr>\n",
       "    <tr>\n",
       "      <th>7</th>\n",
       "      <td>21c2926c-6793-11ee-8612-ff5ae65b72d3</td>\n",
       "      <td>dilip</td>\n",
       "      <td>D!1234567</td>\n",
       "    </tr>\n",
       "  </tbody>\n",
       "</table>\n",
       "</div>"
      ],
      "text/plain": [
       "                                    mID        emailID             password\n",
       "0  56f3d07e-675a-11ee-8612-ff5ae65b72d3        pritesh         Hello@123456\n",
       "1  d6bc21d0-675a-11ee-8612-ff5ae65b72d3              5         9892901083@a\n",
       "2  db31d35e-6764-11ee-8612-ff5ae65b72d3           prit          D@123546789\n",
       "3  ed8616dc-6764-11ee-8612-ff5ae65b72d3            lrb        lrb123456789!\n",
       "4  f894cdde-6764-11ee-8612-ff5ae65b72d3           dsfg   adf52@4887514dfasd\n",
       "5  547eee36-6765-11ee-8612-ff5ae65b72d3        Psdfsad   asdf2@q234q2345456\n",
       "6  5dc2bb76-6765-11ee-8612-ff5ae65b72d3  Pasdfasdfasdf  P@1456dsfsadgfafrga\n",
       "7  21c2926c-6793-11ee-8612-ff5ae65b72d3          dilip            D!1234567"
      ]
     },
     "execution_count": 140,
     "metadata": {},
     "output_type": "execute_result"
    }
   ],
   "source": [
    "df"
   ]
  },
  {
   "cell_type": "code",
   "execution_count": 141,
   "id": "5bd7f9a3-7c24-402e-b447-8d36741737f9",
   "metadata": {},
   "outputs": [
    {
     "data": {
      "text/plain": [
       "[0, 1, 2, 3, 4, 5, 6, 7]"
      ]
     },
     "execution_count": 141,
     "metadata": {},
     "output_type": "execute_result"
    }
   ],
   "source": [
    "df.index.tolist()"
   ]
  },
  {
   "cell_type": "code",
   "execution_count": 126,
   "id": "bd730eb6-bda3-4cde-a5dc-6b77fe7d31fe",
   "metadata": {},
   "outputs": [
    {
     "data": {
      "text/plain": [
       "0    pritesh\n",
       "Name: emailID, dtype: object"
      ]
     },
     "execution_count": 126,
     "metadata": {},
     "output_type": "execute_result"
    }
   ],
   "source": [
    "df.loc[df[df[\"mID\"] ==\"56f3d07e-675a-11ee-8612-ff5ae65b72d3\" ].index,\"emailID\" ] "
   ]
  },
  {
   "cell_type": "code",
   "execution_count": 127,
   "id": "29e7bce2-a1b9-4101-b61a-a728a6019275",
   "metadata": {},
   "outputs": [],
   "source": [
    "data = {\"mID\":[],\n",
    "       \"Qid\":[]}"
   ]
  },
  {
   "cell_type": "code",
   "execution_count": 128,
   "id": "c4132852-9dd5-411b-b25d-27916b44eb22",
   "metadata": {},
   "outputs": [
    {
     "data": {
      "text/html": [
       "<div>\n",
       "<style scoped>\n",
       "    .dataframe tbody tr th:only-of-type {\n",
       "        vertical-align: middle;\n",
       "    }\n",
       "\n",
       "    .dataframe tbody tr th {\n",
       "        vertical-align: top;\n",
       "    }\n",
       "\n",
       "    .dataframe thead th {\n",
       "        text-align: right;\n",
       "    }\n",
       "</style>\n",
       "<table border=\"1\" class=\"dataframe\">\n",
       "  <thead>\n",
       "    <tr style=\"text-align: right;\">\n",
       "      <th></th>\n",
       "      <th>mID</th>\n",
       "      <th>Qid</th>\n",
       "    </tr>\n",
       "  </thead>\n",
       "  <tbody>\n",
       "  </tbody>\n",
       "</table>\n",
       "</div>"
      ],
      "text/plain": [
       "Empty DataFrame\n",
       "Columns: [mID, Qid]\n",
       "Index: []"
      ]
     },
     "execution_count": 128,
     "metadata": {},
     "output_type": "execute_result"
    }
   ],
   "source": [
    "df = pd.DataFrame(data)\n",
    "df"
   ]
  },
  {
   "cell_type": "code",
   "execution_count": 129,
   "id": "d9c52680-ba89-4352-90a5-0f8b3a72f962",
   "metadata": {},
   "outputs": [],
   "source": [
    "df.to_csv(\"./favouriteQuotes.csv\")"
   ]
  },
  {
   "cell_type": "code",
   "execution_count": 135,
   "id": "9e76d71f-2837-498a-bf68-48e8be71c6fe",
   "metadata": {},
   "outputs": [],
   "source": [
    "data = {'A': 2,\n",
    "        'B': 1}"
   ]
  },
  {
   "cell_type": "code",
   "execution_count": 137,
   "id": "afd16c0d-d4d8-4316-b827-adb4f1039321",
   "metadata": {},
   "outputs": [],
   "source": [
    "df = pd.DataFrame(data,index = [0])"
   ]
  },
  {
   "cell_type": "code",
   "execution_count": 138,
   "id": "973e1a83-ef62-4f6d-9c2d-94da2bbfa3d6",
   "metadata": {},
   "outputs": [
    {
     "data": {
      "text/html": [
       "<div>\n",
       "<style scoped>\n",
       "    .dataframe tbody tr th:only-of-type {\n",
       "        vertical-align: middle;\n",
       "    }\n",
       "\n",
       "    .dataframe tbody tr th {\n",
       "        vertical-align: top;\n",
       "    }\n",
       "\n",
       "    .dataframe thead th {\n",
       "        text-align: right;\n",
       "    }\n",
       "</style>\n",
       "<table border=\"1\" class=\"dataframe\">\n",
       "  <thead>\n",
       "    <tr style=\"text-align: right;\">\n",
       "      <th></th>\n",
       "      <th>A</th>\n",
       "      <th>B</th>\n",
       "    </tr>\n",
       "  </thead>\n",
       "  <tbody>\n",
       "    <tr>\n",
       "      <th>0</th>\n",
       "      <td>2</td>\n",
       "      <td>1</td>\n",
       "    </tr>\n",
       "  </tbody>\n",
       "</table>\n",
       "</div>"
      ],
      "text/plain": [
       "   A  B\n",
       "0  2  1"
      ]
     },
     "execution_count": 138,
     "metadata": {},
     "output_type": "execute_result"
    }
   ],
   "source": [
    "df"
   ]
  },
  {
   "cell_type": "code",
   "execution_count": 134,
   "id": "d2234db8-61cd-4ce5-9f3a-8bc6d27fdb18",
   "metadata": {},
   "outputs": [
    {
     "data": {
      "text/plain": [
       "numpy.int64"
      ]
     },
     "execution_count": 134,
     "metadata": {},
     "output_type": "execute_result"
    }
   ],
   "source": [
    "type(df.loc[1,\"B\"])"
   ]
  },
  {
   "cell_type": "code",
   "execution_count": 144,
   "id": "e830f8c4-6b51-4546-b5ae-47e1a21d753d",
   "metadata": {},
   "outputs": [],
   "source": [
    "df = pd.read_csv(\"./quotes.csv\",index_col=0)"
   ]
  },
  {
   "cell_type": "code",
   "execution_count": 146,
   "id": "a5d6eac2-2377-4ef5-8828-78385bfc9ffe",
   "metadata": {},
   "outputs": [
    {
     "data": {
      "text/html": [
       "<div>\n",
       "<style scoped>\n",
       "    .dataframe tbody tr th:only-of-type {\n",
       "        vertical-align: middle;\n",
       "    }\n",
       "\n",
       "    .dataframe tbody tr th {\n",
       "        vertical-align: top;\n",
       "    }\n",
       "\n",
       "    .dataframe thead th {\n",
       "        text-align: right;\n",
       "    }\n",
       "</style>\n",
       "<table border=\"1\" class=\"dataframe\">\n",
       "  <thead>\n",
       "    <tr style=\"text-align: right;\">\n",
       "      <th></th>\n",
       "      <th>Qid</th>\n",
       "      <th>text</th>\n",
       "      <th>author</th>\n",
       "      <th>mID</th>\n",
       "    </tr>\n",
       "  </thead>\n",
       "  <tbody>\n",
       "    <tr>\n",
       "      <th>0</th>\n",
       "      <td>08fc7b6a-6790-11ee-8612-ff5ae65b72d3</td>\n",
       "      <td>then when</td>\n",
       "      <td>S</td>\n",
       "      <td>d6bc21d0-675a-11ee-8612-ff5ae65b72d3</td>\n",
       "    </tr>\n",
       "    <tr>\n",
       "      <th>1</th>\n",
       "      <td>1749661a-6790-11ee-8612-ff5ae65b72d3</td>\n",
       "      <td>abhi nahi to kabhi nahi</td>\n",
       "      <td>s1</td>\n",
       "      <td>d6bc21d0-675a-11ee-8612-ff5ae65b72d3</td>\n",
       "    </tr>\n",
       "    <tr>\n",
       "      <th>2</th>\n",
       "      <td>c9b3b088-6792-11ee-8612-ff5ae65b72d3</td>\n",
       "      <td>tomorrow is big</td>\n",
       "      <td>big</td>\n",
       "      <td>56f3d07e-675a-11ee-8612-ff5ae65b72d3</td>\n",
       "    </tr>\n",
       "    <tr>\n",
       "      <th>3</th>\n",
       "      <td>3a760d52-6793-11ee-8612-ff5ae65b72d3</td>\n",
       "      <td>I am King</td>\n",
       "      <td>Di</td>\n",
       "      <td>21c2926c-6793-11ee-8612-ff5ae65b72d3</td>\n",
       "    </tr>\n",
       "    <tr>\n",
       "      <th>5</th>\n",
       "      <td>b9979030-67a0-11ee-8612-ff5ae65b72d3</td>\n",
       "      <td>This is my new begining</td>\n",
       "      <td>new</td>\n",
       "      <td>8f09ff42-67a0-11ee-8612-ff5ae65b72d3</td>\n",
       "    </tr>\n",
       "    <tr>\n",
       "      <th>6</th>\n",
       "      <td>e1655a0c-67a0-11ee-8612-ff5ae65b72d3</td>\n",
       "      <td>Hey folks Please like this</td>\n",
       "      <td>new</td>\n",
       "      <td>8f09ff42-67a0-11ee-8612-ff5ae65b72d3</td>\n",
       "    </tr>\n",
       "  </tbody>\n",
       "</table>\n",
       "</div>"
      ],
      "text/plain": [
       "                                    Qid                        text author  \\\n",
       "0  08fc7b6a-6790-11ee-8612-ff5ae65b72d3                   then when      S   \n",
       "1  1749661a-6790-11ee-8612-ff5ae65b72d3     abhi nahi to kabhi nahi     s1   \n",
       "2  c9b3b088-6792-11ee-8612-ff5ae65b72d3             tomorrow is big    big   \n",
       "3  3a760d52-6793-11ee-8612-ff5ae65b72d3                   I am King     Di   \n",
       "5  b9979030-67a0-11ee-8612-ff5ae65b72d3     This is my new begining    new   \n",
       "6  e1655a0c-67a0-11ee-8612-ff5ae65b72d3  Hey folks Please like this    new   \n",
       "\n",
       "                                    mID  \n",
       "0  d6bc21d0-675a-11ee-8612-ff5ae65b72d3  \n",
       "1  d6bc21d0-675a-11ee-8612-ff5ae65b72d3  \n",
       "2  56f3d07e-675a-11ee-8612-ff5ae65b72d3  \n",
       "3  21c2926c-6793-11ee-8612-ff5ae65b72d3  \n",
       "5  8f09ff42-67a0-11ee-8612-ff5ae65b72d3  \n",
       "6  8f09ff42-67a0-11ee-8612-ff5ae65b72d3  "
      ]
     },
     "execution_count": 146,
     "metadata": {},
     "output_type": "execute_result"
    }
   ],
   "source": [
    "df.reindex()"
   ]
  },
  {
   "cell_type": "code",
   "execution_count": 149,
   "id": "9194a1e4-547d-4213-8ce4-f38b376b42d4",
   "metadata": {},
   "outputs": [
    {
     "data": {
      "text/plain": [
       "['e1655a0c-67a0-11ee-8612-ff5ae65b72d3',\n",
       " 'Hey folks Please like this',\n",
       " 'new',\n",
       " '8f09ff42-67a0-11ee-8612-ff5ae65b72d3']"
      ]
     },
     "execution_count": 149,
     "metadata": {},
     "output_type": "execute_result"
    }
   ],
   "source": [
    "df.loc[6].tolist()"
   ]
  },
  {
   "cell_type": "code",
   "execution_count": 3,
   "id": "23e1ce55-b13b-4dae-8b8b-08e27e591483",
   "metadata": {},
   "outputs": [],
   "source": [
    "import re\n",
    "import pandas as pd"
   ]
  },
  {
   "cell_type": "code",
   "execution_count": 16,
   "id": "5d69110f-0054-4d6a-8672-30f1e0e9aa97",
   "metadata": {},
   "outputs": [],
   "source": [
    "pattern = re.compile(\"^[a-z]+[0-9]*@[a-z]+\\\\.(com)|(net)|(in)|(org)$\")"
   ]
  },
  {
   "cell_type": "code",
   "execution_count": 6,
   "id": "06014c0f-f2ff-4fc1-b875-6a44c0fe762f",
   "metadata": {},
   "outputs": [],
   "source": [
    "df = pd.read_csv(\"./IDPass.csv\",index_col=0)"
   ]
  },
  {
   "cell_type": "code",
   "execution_count": 7,
   "id": "2f97d0f5-12bb-4628-986f-1a1143594e39",
   "metadata": {},
   "outputs": [
    {
     "data": {
      "text/html": [
       "<div>\n",
       "<style scoped>\n",
       "    .dataframe tbody tr th:only-of-type {\n",
       "        vertical-align: middle;\n",
       "    }\n",
       "\n",
       "    .dataframe tbody tr th {\n",
       "        vertical-align: top;\n",
       "    }\n",
       "\n",
       "    .dataframe thead th {\n",
       "        text-align: right;\n",
       "    }\n",
       "</style>\n",
       "<table border=\"1\" class=\"dataframe\">\n",
       "  <thead>\n",
       "    <tr style=\"text-align: right;\">\n",
       "      <th></th>\n",
       "      <th>emailID</th>\n",
       "      <th>password</th>\n",
       "    </tr>\n",
       "    <tr>\n",
       "      <th>mID</th>\n",
       "      <th></th>\n",
       "      <th></th>\n",
       "    </tr>\n",
       "  </thead>\n",
       "  <tbody>\n",
       "    <tr>\n",
       "      <th>56f3d07e-675a-11ee-8612-ff5ae65b72d3</th>\n",
       "      <td>pritesh</td>\n",
       "      <td>Hello@123456</td>\n",
       "    </tr>\n",
       "    <tr>\n",
       "      <th>d6bc21d0-675a-11ee-8612-ff5ae65b72d3</th>\n",
       "      <td>5</td>\n",
       "      <td>9892901083@a</td>\n",
       "    </tr>\n",
       "    <tr>\n",
       "      <th>db31d35e-6764-11ee-8612-ff5ae65b72d3</th>\n",
       "      <td>prit</td>\n",
       "      <td>D@123546789</td>\n",
       "    </tr>\n",
       "    <tr>\n",
       "      <th>ed8616dc-6764-11ee-8612-ff5ae65b72d3</th>\n",
       "      <td>lrb</td>\n",
       "      <td>lrb123456789!</td>\n",
       "    </tr>\n",
       "    <tr>\n",
       "      <th>f894cdde-6764-11ee-8612-ff5ae65b72d3</th>\n",
       "      <td>dsfg</td>\n",
       "      <td>adf52@4887514dfasd</td>\n",
       "    </tr>\n",
       "    <tr>\n",
       "      <th>547eee36-6765-11ee-8612-ff5ae65b72d3</th>\n",
       "      <td>Psdfsad</td>\n",
       "      <td>asdf2@q234q2345456</td>\n",
       "    </tr>\n",
       "    <tr>\n",
       "      <th>5dc2bb76-6765-11ee-8612-ff5ae65b72d3</th>\n",
       "      <td>Pasdfasdfasdf</td>\n",
       "      <td>P@1456dsfsadgfafrga</td>\n",
       "    </tr>\n",
       "    <tr>\n",
       "      <th>21c2926c-6793-11ee-8612-ff5ae65b72d3</th>\n",
       "      <td>dilip</td>\n",
       "      <td>D!1234567</td>\n",
       "    </tr>\n",
       "    <tr>\n",
       "      <th>8f09ff42-67a0-11ee-8612-ff5ae65b72d3</th>\n",
       "      <td>new</td>\n",
       "      <td>new.123456</td>\n",
       "    </tr>\n",
       "  </tbody>\n",
       "</table>\n",
       "</div>"
      ],
      "text/plain": [
       "                                            emailID             password\n",
       "mID                                                                     \n",
       "56f3d07e-675a-11ee-8612-ff5ae65b72d3        pritesh         Hello@123456\n",
       "d6bc21d0-675a-11ee-8612-ff5ae65b72d3              5         9892901083@a\n",
       "db31d35e-6764-11ee-8612-ff5ae65b72d3           prit          D@123546789\n",
       "ed8616dc-6764-11ee-8612-ff5ae65b72d3            lrb        lrb123456789!\n",
       "f894cdde-6764-11ee-8612-ff5ae65b72d3           dsfg   adf52@4887514dfasd\n",
       "547eee36-6765-11ee-8612-ff5ae65b72d3        Psdfsad   asdf2@q234q2345456\n",
       "5dc2bb76-6765-11ee-8612-ff5ae65b72d3  Pasdfasdfasdf  P@1456dsfsadgfafrga\n",
       "21c2926c-6793-11ee-8612-ff5ae65b72d3          dilip            D!1234567\n",
       "8f09ff42-67a0-11ee-8612-ff5ae65b72d3            new           new.123456"
      ]
     },
     "execution_count": 7,
     "metadata": {},
     "output_type": "execute_result"
    }
   ],
   "source": [
    "df"
   ]
  },
  {
   "cell_type": "code",
   "execution_count": 17,
   "id": "06167c74-a695-43b5-af9a-1a3d3d3f37a7",
   "metadata": {},
   "outputs": [],
   "source": [
    "lists = [\"prite@gmail.com\",\"prite1@gmail.com\", \"1rahul@gmail.com\",\"prit@java.net\",\"om1@o.com\",\"omkar@21.org\",\"pRat78@ymail.com\",\"notdot@googlecom\"]"
   ]
  },
  {
   "cell_type": "code",
   "execution_count": 18,
   "id": "4fee5750-81ab-484e-a81d-86e4488f2164",
   "metadata": {},
   "outputs": [
    {
     "name": "stdout",
     "output_type": "stream",
     "text": [
      "prite@gmail.com is Valid\n",
      "prite1@gmail.com is Valid\n",
      "1rahul@gmail.com is InValid\n",
      "prit@java.net is Valid\n",
      "om1@o.com is Valid\n",
      "omkar@21.org is Valid\n",
      "pRat78@ymail.com is InValid\n",
      "notdot@googlecom is InValid\n"
     ]
    }
   ],
   "source": [
    "for i in lists:\n",
    "    if pattern.search(i):\n",
    "        print(f\"{i} is Valid\")\n",
    "    else:\n",
    "        print(f\"{i} is InValid\")"
   ]
  },
  {
   "cell_type": "code",
   "execution_count": null,
   "id": "1d7ca88d-85f1-4549-b692-da4fe2dad4ab",
   "metadata": {},
   "outputs": [],
   "source": [
    "p_pattern = re.compile(\"[a-z]+[0-9]+\")"
   ]
  }
 ],
 "metadata": {
  "kernelspec": {
   "display_name": "Python 3 (ipykernel)",
   "language": "python",
   "name": "python3"
  },
  "language_info": {
   "codemirror_mode": {
    "name": "ipython",
    "version": 3
   },
   "file_extension": ".py",
   "mimetype": "text/x-python",
   "name": "python",
   "nbconvert_exporter": "python",
   "pygments_lexer": "ipython3",
   "version": "3.10.12"
  }
 },
 "nbformat": 4,
 "nbformat_minor": 5
}
